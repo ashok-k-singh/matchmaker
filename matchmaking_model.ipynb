{
 "cells": [
  {
   "cell_type": "code",
   "execution_count": 152,
   "metadata": {
    "slideshow": {
     "slide_type": "subslide"
    }
   },
   "outputs": [],
   "source": [
    "%matplotlib inline\n",
    "import matplotlib.pyplot as plt\n",
    "import pandas as pd\n",
    "import numpy as np\n",
    "import os\n",
    "import config"
   ]
  },
  {
   "cell_type": "code",
   "execution_count": 186,
   "metadata": {
    "slideshow": {
     "slide_type": "fragment"
    }
   },
   "outputs": [
    {
     "data": {
      "text/html": [
       "<div>\n",
       "<style scoped>\n",
       "    .dataframe tbody tr th:only-of-type {\n",
       "        vertical-align: middle;\n",
       "    }\n",
       "\n",
       "    .dataframe tbody tr th {\n",
       "        vertical-align: top;\n",
       "    }\n",
       "\n",
       "    .dataframe thead th {\n",
       "        text-align: right;\n",
       "    }\n",
       "</style>\n",
       "<table border=\"1\" class=\"dataframe\">\n",
       "  <thead>\n",
       "    <tr style=\"text-align: right;\">\n",
       "      <th></th>\n",
       "      <th>couple_id</th>\n",
       "      <th>f_age</th>\n",
       "      <th>f_imprace</th>\n",
       "      <th>f_attr</th>\n",
       "      <th>f_sinc</th>\n",
       "      <th>f_intel</th>\n",
       "      <th>f_fun</th>\n",
       "      <th>f_amb</th>\n",
       "      <th>f_race</th>\n",
       "      <th>f_intrace</th>\n",
       "      <th>m_age</th>\n",
       "      <th>m_imprace</th>\n",
       "      <th>m_attr</th>\n",
       "      <th>m_sinc</th>\n",
       "      <th>m_intel</th>\n",
       "      <th>m_fun</th>\n",
       "      <th>m_amb</th>\n",
       "      <th>m_race</th>\n",
       "      <th>samerace</th>\n",
       "      <th>match</th>\n",
       "      <th>m_intrace</th>\n",
       "    </tr>\n",
       "  </thead>\n",
       "  <tbody>\n",
       "    <tr>\n",
       "      <th>0</th>\n",
       "      <td>f1-m11</td>\n",
       "      <td>21.0</td>\n",
       "      <td>2.0</td>\n",
       "      <td>6.0</td>\n",
       "      <td>9.0</td>\n",
       "      <td>7.0</td>\n",
       "      <td>7.0</td>\n",
       "      <td>6.0</td>\n",
       "      <td>4.0</td>\n",
       "      <td>0.0</td>\n",
       "      <td>27.0</td>\n",
       "      <td>7.0</td>\n",
       "      <td>6.0</td>\n",
       "      <td>8.0</td>\n",
       "      <td>8.0</td>\n",
       "      <td>8.0</td>\n",
       "      <td>8.0</td>\n",
       "      <td>2.0</td>\n",
       "      <td>0</td>\n",
       "      <td>0</td>\n",
       "      <td>0.0</td>\n",
       "    </tr>\n",
       "    <tr>\n",
       "      <th>1</th>\n",
       "      <td>f1-m12</td>\n",
       "      <td>21.0</td>\n",
       "      <td>2.0</td>\n",
       "      <td>7.0</td>\n",
       "      <td>8.0</td>\n",
       "      <td>7.0</td>\n",
       "      <td>8.0</td>\n",
       "      <td>5.0</td>\n",
       "      <td>4.0</td>\n",
       "      <td>0.0</td>\n",
       "      <td>22.0</td>\n",
       "      <td>1.0</td>\n",
       "      <td>7.0</td>\n",
       "      <td>8.0</td>\n",
       "      <td>10.0</td>\n",
       "      <td>7.0</td>\n",
       "      <td>7.0</td>\n",
       "      <td>2.0</td>\n",
       "      <td>0</td>\n",
       "      <td>0</td>\n",
       "      <td>0.0</td>\n",
       "    </tr>\n",
       "    <tr>\n",
       "      <th>2</th>\n",
       "      <td>f1-m13</td>\n",
       "      <td>21.0</td>\n",
       "      <td>2.0</td>\n",
       "      <td>5.0</td>\n",
       "      <td>8.0</td>\n",
       "      <td>9.0</td>\n",
       "      <td>8.0</td>\n",
       "      <td>5.0</td>\n",
       "      <td>4.0</td>\n",
       "      <td>2.0</td>\n",
       "      <td>22.0</td>\n",
       "      <td>3.0</td>\n",
       "      <td>10.0</td>\n",
       "      <td>10.0</td>\n",
       "      <td>10.0</td>\n",
       "      <td>10.0</td>\n",
       "      <td>10.0</td>\n",
       "      <td>4.0</td>\n",
       "      <td>1</td>\n",
       "      <td>1</td>\n",
       "      <td>3.0</td>\n",
       "    </tr>\n",
       "    <tr>\n",
       "      <th>3</th>\n",
       "      <td>f1-m14</td>\n",
       "      <td>21.0</td>\n",
       "      <td>2.0</td>\n",
       "      <td>7.0</td>\n",
       "      <td>6.0</td>\n",
       "      <td>8.0</td>\n",
       "      <td>7.0</td>\n",
       "      <td>6.0</td>\n",
       "      <td>4.0</td>\n",
       "      <td>0.0</td>\n",
       "      <td>23.0</td>\n",
       "      <td>1.0</td>\n",
       "      <td>7.0</td>\n",
       "      <td>8.0</td>\n",
       "      <td>9.0</td>\n",
       "      <td>8.0</td>\n",
       "      <td>9.0</td>\n",
       "      <td>2.0</td>\n",
       "      <td>0</td>\n",
       "      <td>1</td>\n",
       "      <td>0.0</td>\n",
       "    </tr>\n",
       "    <tr>\n",
       "      <th>4</th>\n",
       "      <td>f1-m15</td>\n",
       "      <td>21.0</td>\n",
       "      <td>2.0</td>\n",
       "      <td>5.0</td>\n",
       "      <td>6.0</td>\n",
       "      <td>7.0</td>\n",
       "      <td>7.0</td>\n",
       "      <td>6.0</td>\n",
       "      <td>4.0</td>\n",
       "      <td>0.0</td>\n",
       "      <td>24.0</td>\n",
       "      <td>3.0</td>\n",
       "      <td>8.0</td>\n",
       "      <td>7.0</td>\n",
       "      <td>9.0</td>\n",
       "      <td>6.0</td>\n",
       "      <td>9.0</td>\n",
       "      <td>3.0</td>\n",
       "      <td>0</td>\n",
       "      <td>1</td>\n",
       "      <td>0.0</td>\n",
       "    </tr>\n",
       "  </tbody>\n",
       "</table>\n",
       "</div>"
      ],
      "text/plain": [
       "  couple_id  f_age  f_imprace  f_attr  f_sinc  f_intel  f_fun  f_amb  f_race  \\\n",
       "0    f1-m11   21.0        2.0     6.0     9.0      7.0    7.0    6.0     4.0   \n",
       "1    f1-m12   21.0        2.0     7.0     8.0      7.0    8.0    5.0     4.0   \n",
       "2    f1-m13   21.0        2.0     5.0     8.0      9.0    8.0    5.0     4.0   \n",
       "3    f1-m14   21.0        2.0     7.0     6.0      8.0    7.0    6.0     4.0   \n",
       "4    f1-m15   21.0        2.0     5.0     6.0      7.0    7.0    6.0     4.0   \n",
       "\n",
       "   f_intrace  m_age  m_imprace  m_attr  m_sinc  m_intel  m_fun  m_amb  m_race  \\\n",
       "0        0.0   27.0        7.0     6.0     8.0      8.0    8.0    8.0     2.0   \n",
       "1        0.0   22.0        1.0     7.0     8.0     10.0    7.0    7.0     2.0   \n",
       "2        2.0   22.0        3.0    10.0    10.0     10.0   10.0   10.0     4.0   \n",
       "3        0.0   23.0        1.0     7.0     8.0      9.0    8.0    9.0     2.0   \n",
       "4        0.0   24.0        3.0     8.0     7.0      9.0    6.0    9.0     3.0   \n",
       "\n",
       "   samerace  match  m_intrace  \n",
       "0         0      0        0.0  \n",
       "1         0      0        0.0  \n",
       "2         1      1        3.0  \n",
       "3         0      1        0.0  \n",
       "4         0      1        0.0  "
      ]
     },
     "execution_count": 186,
     "metadata": {},
     "output_type": "execute_result"
    }
   ],
   "source": [
    "engine = create_engine(f\"postgresql+psycopg2://{config.pguser}:{config.pgpassword}@{config.pghost}:{config.pgport}/{config.pgdatabase}\")\n",
    "\n",
    "connection = engine.connect()\n",
    "\n",
    "# Get the database\n",
    "sql = f'SELECT * FROM \"matchdata\"'\n",
    "matchDate = pd.read_sql_query(sql,connection)\n",
    "\n",
    "connection.close()\n",
    "\n",
    "# matchDate = pd.read_csv(os.path.join('.', 'Resources', 'Speed Dating Preprocessed.csv'))\n",
    "matchDate.head()"
   ]
  },
  {
   "cell_type": "code",
   "execution_count": 261,
   "metadata": {
    "nbgrader": {
     "grade": false,
     "grade_id": "cell-86a9e3212f200d21",
     "locked": false,
     "schema_version": 1,
     "solution": true
    },
    "slideshow": {
     "slide_type": "subslide"
    }
   },
   "outputs": [
    {
     "name": "stdout",
     "output_type": "stream",
     "text": [
      "(3381, 16) (3381,)\n"
     ]
    }
   ],
   "source": [
    "X_data = matchDate.drop([\"couple_id\",\"f_intrace\",\"samerace\", \"match\", \"m_intrace\"], axis=1)\n",
    "X_data = X_data.round(decimals=0)\n",
    "y_data = matchDate[\"match\"]\n",
    "print(X_data.shape, y_data.shape)"
   ]
  },
  {
   "cell_type": "markdown",
   "metadata": {
    "slideshow": {
     "slide_type": "subslide"
    }
   },
   "source": [
    "Split our data into training and testing"
   ]
  },
  {
   "cell_type": "code",
   "execution_count": 260,
   "metadata": {
    "nbgrader": {
     "grade": false,
     "grade_id": "cell-711a82d9b32c83ff",
     "locked": false,
     "schema_version": 1,
     "solution": true
    },
    "slideshow": {
     "slide_type": "fragment"
    }
   },
   "outputs": [],
   "source": [
    "from sklearn.model_selection import train_test_split\n",
    "\n",
    "X_train, X_test, y_train, y_test = train_test_split(X_data, y_data, random_state=1, stratify=y)"
   ]
  },
  {
   "cell_type": "code",
   "execution_count": 236,
   "metadata": {
    "nbgrader": {
     "grade": false,
     "grade_id": "cell-b83ce1d2dcf17fbd",
     "locked": false,
     "schema_version": 1,
     "solution": true
    },
    "slideshow": {
     "slide_type": "fragment"
    }
   },
   "outputs": [
    {
     "data": {
      "text/plain": [
       "0.8392434988179669"
      ]
     },
     "execution_count": 236,
     "metadata": {},
     "output_type": "execute_result"
    }
   ],
   "source": [
    "from sklearn.linear_model import LogisticRegression\n",
    "lmodel = LogisticRegression(solver='newton-cg')\n",
    "lmodel = lmodel.fit(X_train, y_train)\n",
    "lmodel.score(X_test, y_test)"
   ]
  },
  {
   "cell_type": "markdown",
   "metadata": {
    "slideshow": {
     "slide_type": "subslide"
    }
   },
   "source": [
    "Fit (train) or model using the training data"
   ]
  },
  {
   "cell_type": "code",
   "execution_count": 237,
   "metadata": {},
   "outputs": [
    {
     "name": "stdout",
     "output_type": "stream",
     "text": [
      "tn: 676   fp:  24\n",
      "fn: 112   tp:  34\n"
     ]
    }
   ],
   "source": [
    "lpredictions = lmodel.predict(X_test)\n",
    "from sklearn.metrics import confusion_matrix\n",
    "tn, fp, fn, tp = confusion_matrix(y_test, lpredictions).ravel()\n",
    "print(f\"tn: {tn:3d}   fp: {fp:3d}\")\n",
    "print(f\"fn: {fn:3d}   tp: {tp:3d}\")"
   ]
  },
  {
   "cell_type": "code",
   "execution_count": 160,
   "metadata": {},
   "outputs": [
    {
     "name": "stdout",
     "output_type": "stream",
     "text": [
      "              precision    recall  f1-score   support\n",
      "\n",
      "           0       0.86      0.97      0.91       700\n",
      "           1       0.59      0.23      0.33       146\n",
      "\n",
      "   micro avg       0.84      0.84      0.84       846\n",
      "   macro avg       0.72      0.60      0.62       846\n",
      "weighted avg       0.81      0.84      0.81       846\n",
      "\n"
     ]
    }
   ],
   "source": [
    "from sklearn.metrics import classification_report\n",
    "print(classification_report(y_test, lpredictions, target_names=[\"0\", \"1\"]))"
   ]
  },
  {
   "cell_type": "code",
   "execution_count": 238,
   "metadata": {
    "nbgrader": {
     "grade": false,
     "grade_id": "cell-fa6356c0ca7e4ead",
     "locked": false,
     "schema_version": 1,
     "solution": true
    },
    "slideshow": {
     "slide_type": "fragment"
    }
   },
   "outputs": [
    {
     "data": {
      "text/plain": [
       "0.8439716312056738"
      ]
     },
     "execution_count": 238,
     "metadata": {},
     "output_type": "execute_result"
    }
   ],
   "source": [
    "from sklearn.ensemble import RandomForestClassifier\n",
    "rfmodel = RandomForestClassifier(n_estimators=200)\n",
    "rfmodel = rfmodel.fit(X_train, y_train)\n",
    "rfmodel.score(X_test, y_test)"
   ]
  },
  {
   "cell_type": "markdown",
   "metadata": {
    "slideshow": {
     "slide_type": "subslide"
    }
   },
   "source": [
    "Make predictions"
   ]
  },
  {
   "cell_type": "code",
   "execution_count": 239,
   "metadata": {
    "nbgrader": {
     "grade": false,
     "grade_id": "cell-f97eb3e97245187b",
     "locked": false,
     "schema_version": 1,
     "solution": true
    },
    "slideshow": {
     "slide_type": "fragment"
    }
   },
   "outputs": [
    {
     "name": "stdout",
     "output_type": "stream",
     "text": [
      "tn: 678   fp:  22\n",
      "fn: 110   tp:  36\n"
     ]
    }
   ],
   "source": [
    "rfpredictions = rfmodel.predict(X_test)\n",
    "from sklearn.metrics import confusion_matrix\n",
    "tn, fp, fn, tp = confusion_matrix(y_test, rfpredictions).ravel()\n",
    "print(f\"tn: {tn:3d}   fp: {fp:3d}\")\n",
    "print(f\"fn: {fn:3d}   tp: {tp:3d}\")\n"
   ]
  },
  {
   "cell_type": "code",
   "execution_count": 169,
   "metadata": {},
   "outputs": [
    {
     "name": "stdout",
     "output_type": "stream",
     "text": [
      "              precision    recall  f1-score   support\n",
      "\n",
      "           0       0.86      0.96      0.91       700\n",
      "           1       0.56      0.24      0.33       146\n",
      "\n",
      "   micro avg       0.84      0.84      0.84       846\n",
      "   macro avg       0.71      0.60      0.62       846\n",
      "weighted avg       0.81      0.84      0.81       846\n",
      "\n"
     ]
    }
   ],
   "source": [
    "from sklearn.metrics import classification_report\n",
    "print(classification_report(y_test, rfpredictions, target_names=[\"0\", \"1\"]))"
   ]
  },
  {
   "cell_type": "code",
   "execution_count": 246,
   "metadata": {},
   "outputs": [
    {
     "data": {
      "text/html": [
       "<div>\n",
       "<style scoped>\n",
       "    .dataframe tbody tr th:only-of-type {\n",
       "        vertical-align: middle;\n",
       "    }\n",
       "\n",
       "    .dataframe tbody tr th {\n",
       "        vertical-align: top;\n",
       "    }\n",
       "\n",
       "    .dataframe thead th {\n",
       "        text-align: right;\n",
       "    }\n",
       "</style>\n",
       "<table border=\"1\" class=\"dataframe\">\n",
       "  <thead>\n",
       "    <tr style=\"text-align: right;\">\n",
       "      <th></th>\n",
       "      <th>iid_partner</th>\n",
       "      <th>firstname_partner</th>\n",
       "      <th>lastname_partner</th>\n",
       "      <th>password_partner</th>\n",
       "      <th>gender_partner</th>\n",
       "      <th>age_partner</th>\n",
       "      <th>screenname</th>\n",
       "      <th>email_partner</th>\n",
       "      <th>photo_partner</th>\n",
       "      <th>race_partner</th>\n",
       "      <th>imprace_partner</th>\n",
       "      <th>attr_partner</th>\n",
       "      <th>sinc_partner</th>\n",
       "      <th>intel_partner</th>\n",
       "      <th>fun_partner</th>\n",
       "      <th>amb_partner</th>\n",
       "      <th>iid_user</th>\n",
       "      <th>firstname_user</th>\n",
       "      <th>lastname_user</th>\n",
       "      <th>email_user</th>\n",
       "      <th>password_user</th>\n",
       "      <th>photo_user</th>\n",
       "      <th>gender_user</th>\n",
       "      <th>age_user</th>\n",
       "      <th>race_user</th>\n",
       "      <th>imprace_user</th>\n",
       "      <th>attr_user</th>\n",
       "      <th>sinc_user</th>\n",
       "      <th>fun_user</th>\n",
       "      <th>intel_user</th>\n",
       "      <th>amb_user</th>\n",
       "      <th>merge_gender</th>\n",
       "    </tr>\n",
       "  </thead>\n",
       "  <tbody>\n",
       "    <tr>\n",
       "      <th>1</th>\n",
       "      <td>1</td>\n",
       "      <td>Elodie</td>\n",
       "      <td>Christiaens</td>\n",
       "      <td>Christiaens94~$</td>\n",
       "      <td>0</td>\n",
       "      <td>21.0</td>\n",
       "      <td>Elodie197</td>\n",
       "      <td>elodie94@mm.com</td>\n",
       "      <td>https://uinames.com/api/photos/female/20.jpg</td>\n",
       "      <td>4</td>\n",
       "      <td>2.0</td>\n",
       "      <td>6.700000</td>\n",
       "      <td>7.400000</td>\n",
       "      <td>8.000000</td>\n",
       "      <td>7.200000</td>\n",
       "      <td>8.000000</td>\n",
       "      <td>1</td>\n",
       "      <td>John</td>\n",
       "      <td>Doe</td>\n",
       "      <td>temp@unc.edu</td>\n",
       "      <td>temp</td>\n",
       "      <td></td>\n",
       "      <td>1</td>\n",
       "      <td>22</td>\n",
       "      <td>1</td>\n",
       "      <td>2</td>\n",
       "      <td>8</td>\n",
       "      <td>9</td>\n",
       "      <td>9</td>\n",
       "      <td>9</td>\n",
       "      <td>9</td>\n",
       "      <td>0</td>\n",
       "    </tr>\n",
       "    <tr>\n",
       "      <th>46</th>\n",
       "      <td>2</td>\n",
       "      <td>Vüsalə</td>\n",
       "      <td>Əlizadə</td>\n",
       "      <td>Əlizadə92}(</td>\n",
       "      <td>0</td>\n",
       "      <td>24.0</td>\n",
       "      <td>Vüsalə965</td>\n",
       "      <td>vüsalə92@mm.com</td>\n",
       "      <td>https://uinames.com/api/photos/female/11.jpg</td>\n",
       "      <td>2</td>\n",
       "      <td>2.0</td>\n",
       "      <td>7.700000</td>\n",
       "      <td>7.100000</td>\n",
       "      <td>7.900000</td>\n",
       "      <td>7.500000</td>\n",
       "      <td>7.500000</td>\n",
       "      <td>1</td>\n",
       "      <td>John</td>\n",
       "      <td>Doe</td>\n",
       "      <td>temp@unc.edu</td>\n",
       "      <td>temp</td>\n",
       "      <td></td>\n",
       "      <td>1</td>\n",
       "      <td>22</td>\n",
       "      <td>1</td>\n",
       "      <td>2</td>\n",
       "      <td>8</td>\n",
       "      <td>9</td>\n",
       "      <td>9</td>\n",
       "      <td>9</td>\n",
       "      <td>9</td>\n",
       "      <td>0</td>\n",
       "    </tr>\n",
       "    <tr>\n",
       "      <th>105</th>\n",
       "      <td>3</td>\n",
       "      <td>Végvári</td>\n",
       "      <td>Nóra</td>\n",
       "      <td>Nóra88})</td>\n",
       "      <td>0</td>\n",
       "      <td>25.0</td>\n",
       "      <td>Végvári730</td>\n",
       "      <td>végvári_88@mm.com</td>\n",
       "      <td>https://uinames.com/api/photos/female/26.jpg</td>\n",
       "      <td>2</td>\n",
       "      <td>8.0</td>\n",
       "      <td>6.555556</td>\n",
       "      <td>6.777778</td>\n",
       "      <td>7.222222</td>\n",
       "      <td>6.222222</td>\n",
       "      <td>7.111111</td>\n",
       "      <td>1</td>\n",
       "      <td>John</td>\n",
       "      <td>Doe</td>\n",
       "      <td>temp@unc.edu</td>\n",
       "      <td>temp</td>\n",
       "      <td></td>\n",
       "      <td>1</td>\n",
       "      <td>22</td>\n",
       "      <td>1</td>\n",
       "      <td>2</td>\n",
       "      <td>8</td>\n",
       "      <td>9</td>\n",
       "      <td>9</td>\n",
       "      <td>9</td>\n",
       "      <td>9</td>\n",
       "      <td>0</td>\n",
       "    </tr>\n",
       "    <tr>\n",
       "      <th>170</th>\n",
       "      <td>4</td>\n",
       "      <td>Laura</td>\n",
       "      <td>Caraciobanu</td>\n",
       "      <td>Caraciobanu87=}</td>\n",
       "      <td>0</td>\n",
       "      <td>23.0</td>\n",
       "      <td>Laura274</td>\n",
       "      <td>laura-87@mm.com</td>\n",
       "      <td>https://uinames.com/api/photos/female/17.jpg</td>\n",
       "      <td>2</td>\n",
       "      <td>1.0</td>\n",
       "      <td>7.000000</td>\n",
       "      <td>7.100000</td>\n",
       "      <td>7.700000</td>\n",
       "      <td>7.500000</td>\n",
       "      <td>7.700000</td>\n",
       "      <td>1</td>\n",
       "      <td>John</td>\n",
       "      <td>Doe</td>\n",
       "      <td>temp@unc.edu</td>\n",
       "      <td>temp</td>\n",
       "      <td></td>\n",
       "      <td>1</td>\n",
       "      <td>22</td>\n",
       "      <td>1</td>\n",
       "      <td>2</td>\n",
       "      <td>8</td>\n",
       "      <td>9</td>\n",
       "      <td>9</td>\n",
       "      <td>9</td>\n",
       "      <td>9</td>\n",
       "      <td>0</td>\n",
       "    </tr>\n",
       "    <tr>\n",
       "      <th>213</th>\n",
       "      <td>5</td>\n",
       "      <td>Andreea</td>\n",
       "      <td>Trifa</td>\n",
       "      <td>Trifa88%_</td>\n",
       "      <td>0</td>\n",
       "      <td>21.0</td>\n",
       "      <td>Andreea936</td>\n",
       "      <td>andreea-88@mm.com</td>\n",
       "      <td>https://uinames.com/api/photos/female/10.jpg</td>\n",
       "      <td>2</td>\n",
       "      <td>8.0</td>\n",
       "      <td>5.300000</td>\n",
       "      <td>7.700000</td>\n",
       "      <td>7.600000</td>\n",
       "      <td>7.200000</td>\n",
       "      <td>7.800000</td>\n",
       "      <td>1</td>\n",
       "      <td>John</td>\n",
       "      <td>Doe</td>\n",
       "      <td>temp@unc.edu</td>\n",
       "      <td>temp</td>\n",
       "      <td></td>\n",
       "      <td>1</td>\n",
       "      <td>22</td>\n",
       "      <td>1</td>\n",
       "      <td>2</td>\n",
       "      <td>8</td>\n",
       "      <td>9</td>\n",
       "      <td>9</td>\n",
       "      <td>9</td>\n",
       "      <td>9</td>\n",
       "      <td>0</td>\n",
       "    </tr>\n",
       "  </tbody>\n",
       "</table>\n",
       "</div>"
      ],
      "text/plain": [
       "     iid_partner firstname_partner lastname_partner password_partner  \\\n",
       "1              1            Elodie      Christiaens  Christiaens94~$   \n",
       "46             2            Vüsalə          Əlizadə      Əlizadə92}(   \n",
       "105            3           Végvári             Nóra         Nóra88})   \n",
       "170            4             Laura      Caraciobanu  Caraciobanu87=}   \n",
       "213            5           Andreea            Trifa        Trifa88%_   \n",
       "\n",
       "     gender_partner  age_partner  screenname      email_partner  \\\n",
       "1                 0         21.0   Elodie197    elodie94@mm.com   \n",
       "46                0         24.0   Vüsalə965    vüsalə92@mm.com   \n",
       "105               0         25.0  Végvári730  végvári_88@mm.com   \n",
       "170               0         23.0    Laura274    laura-87@mm.com   \n",
       "213               0         21.0  Andreea936  andreea-88@mm.com   \n",
       "\n",
       "                                    photo_partner  race_partner  \\\n",
       "1    https://uinames.com/api/photos/female/20.jpg             4   \n",
       "46   https://uinames.com/api/photos/female/11.jpg             2   \n",
       "105  https://uinames.com/api/photos/female/26.jpg             2   \n",
       "170  https://uinames.com/api/photos/female/17.jpg             2   \n",
       "213  https://uinames.com/api/photos/female/10.jpg             2   \n",
       "\n",
       "     imprace_partner  attr_partner  sinc_partner  intel_partner  fun_partner  \\\n",
       "1                2.0      6.700000      7.400000       8.000000     7.200000   \n",
       "46               2.0      7.700000      7.100000       7.900000     7.500000   \n",
       "105              8.0      6.555556      6.777778       7.222222     6.222222   \n",
       "170              1.0      7.000000      7.100000       7.700000     7.500000   \n",
       "213              8.0      5.300000      7.700000       7.600000     7.200000   \n",
       "\n",
       "     amb_partner  iid_user firstname_user lastname_user    email_user  \\\n",
       "1       8.000000         1           John           Doe  temp@unc.edu   \n",
       "46      7.500000         1           John           Doe  temp@unc.edu   \n",
       "105     7.111111         1           John           Doe  temp@unc.edu   \n",
       "170     7.700000         1           John           Doe  temp@unc.edu   \n",
       "213     7.800000         1           John           Doe  temp@unc.edu   \n",
       "\n",
       "    password_user photo_user  gender_user  age_user  race_user  imprace_user  \\\n",
       "1            temp                       1        22          1             2   \n",
       "46           temp                       1        22          1             2   \n",
       "105          temp                       1        22          1             2   \n",
       "170          temp                       1        22          1             2   \n",
       "213          temp                       1        22          1             2   \n",
       "\n",
       "     attr_user  sinc_user  fun_user  intel_user  amb_user  merge_gender  \n",
       "1            8          9         9           9         9             0  \n",
       "46           8          9         9           9         9             0  \n",
       "105          8          9         9           9         9             0  \n",
       "170          8          9         9           9         9             0  \n",
       "213          8          9         9           9         9             0  "
      ]
     },
     "execution_count": 246,
     "metadata": {},
     "output_type": "execute_result"
    }
   ],
   "source": [
    "curr_user_profile = {'iid': [1],\n",
    "                     'firstname': ['John'],\n",
    "                     'lastname': ['Doe'],\n",
    "                     'email': ['temp@unc.edu'],\n",
    "                     'password': ['temp'],\n",
    "                     'photo': [''],\n",
    "                     'gender': [1],\n",
    "                     'age': [22],\n",
    "                     'race': [1],\n",
    "                     'imprace': [2],\n",
    "                     'attr': [8],\n",
    "                     'sinc': [9],\n",
    "                     'fun': [9],\n",
    "                     'intel': [9],\n",
    "                     'amb': [9]  }\n",
    "\n",
    "my_df = pd.DataFrame(curr_user_profile)\n",
    "\n",
    "\n",
    "engine = create_engine(f\"postgresql+psycopg2://{config.pguser}:{config.pgpassword}@{config.pghost}:{config.pgport}/{config.pgdatabase}\")\n",
    "\n",
    "connection = engine.connect()\n",
    "\n",
    "# Get the database\n",
    "user_sql = f'SELECT * FROM \"Users\"'\n",
    "df = pd.read_sql_query(user_sql,connection)\n",
    "\n",
    "if (my_df[\"gender\"][0] == 1):\n",
    "    opp_df = df[df[\"gender\"] == 0] \n",
    "    my_df[\"merge_gender\"] = 0 \n",
    "else:\n",
    "   opp_df = df[df[\"gender\"] == 1]  \n",
    "   my_df[\"merge_gender\"] = 1 \n",
    "\n",
    "merge_df = pd.merge(opp_df, my_df, left_on='gender', right_on='merge_gender', how='left', suffixes=('_partner', '_user'))\n",
    "\n",
    "pd.set_option('display.max_columns', None)\n",
    "merge_df = merge_df.sort_values(by=['iid_partner'])\n",
    "\n",
    "merge_df.head()\n",
    "\n",
    "\n"
   ]
  },
  {
   "cell_type": "code",
   "execution_count": 251,
   "metadata": {},
   "outputs": [
    {
     "data": {
      "text/html": [
       "<div>\n",
       "<style scoped>\n",
       "    .dataframe tbody tr th:only-of-type {\n",
       "        vertical-align: middle;\n",
       "    }\n",
       "\n",
       "    .dataframe tbody tr th {\n",
       "        vertical-align: top;\n",
       "    }\n",
       "\n",
       "    .dataframe thead th {\n",
       "        text-align: right;\n",
       "    }\n",
       "</style>\n",
       "<table border=\"1\" class=\"dataframe\">\n",
       "  <thead>\n",
       "    <tr style=\"text-align: right;\">\n",
       "      <th></th>\n",
       "      <th>age_partner</th>\n",
       "      <th>imprace_partner</th>\n",
       "      <th>attr_partner</th>\n",
       "      <th>sinc_partner</th>\n",
       "      <th>intel_partner</th>\n",
       "      <th>fun_partner</th>\n",
       "      <th>amb_partner</th>\n",
       "      <th>race_partner</th>\n",
       "      <th>age_user</th>\n",
       "      <th>imprace_user</th>\n",
       "      <th>attr_user</th>\n",
       "      <th>sinc_user</th>\n",
       "      <th>intel_user</th>\n",
       "      <th>fun_user</th>\n",
       "      <th>amb_user</th>\n",
       "      <th>race_user</th>\n",
       "    </tr>\n",
       "  </thead>\n",
       "  <tbody>\n",
       "    <tr>\n",
       "      <th>1</th>\n",
       "      <td>21.0</td>\n",
       "      <td>2.0</td>\n",
       "      <td>7.0</td>\n",
       "      <td>7.0</td>\n",
       "      <td>8.0</td>\n",
       "      <td>7.0</td>\n",
       "      <td>8.0</td>\n",
       "      <td>4</td>\n",
       "      <td>22</td>\n",
       "      <td>2</td>\n",
       "      <td>8</td>\n",
       "      <td>9</td>\n",
       "      <td>9</td>\n",
       "      <td>9</td>\n",
       "      <td>9</td>\n",
       "      <td>1</td>\n",
       "    </tr>\n",
       "    <tr>\n",
       "      <th>46</th>\n",
       "      <td>24.0</td>\n",
       "      <td>2.0</td>\n",
       "      <td>8.0</td>\n",
       "      <td>7.0</td>\n",
       "      <td>8.0</td>\n",
       "      <td>8.0</td>\n",
       "      <td>8.0</td>\n",
       "      <td>2</td>\n",
       "      <td>22</td>\n",
       "      <td>2</td>\n",
       "      <td>8</td>\n",
       "      <td>9</td>\n",
       "      <td>9</td>\n",
       "      <td>9</td>\n",
       "      <td>9</td>\n",
       "      <td>1</td>\n",
       "    </tr>\n",
       "    <tr>\n",
       "      <th>105</th>\n",
       "      <td>25.0</td>\n",
       "      <td>8.0</td>\n",
       "      <td>7.0</td>\n",
       "      <td>7.0</td>\n",
       "      <td>7.0</td>\n",
       "      <td>6.0</td>\n",
       "      <td>7.0</td>\n",
       "      <td>2</td>\n",
       "      <td>22</td>\n",
       "      <td>2</td>\n",
       "      <td>8</td>\n",
       "      <td>9</td>\n",
       "      <td>9</td>\n",
       "      <td>9</td>\n",
       "      <td>9</td>\n",
       "      <td>1</td>\n",
       "    </tr>\n",
       "    <tr>\n",
       "      <th>170</th>\n",
       "      <td>23.0</td>\n",
       "      <td>1.0</td>\n",
       "      <td>7.0</td>\n",
       "      <td>7.0</td>\n",
       "      <td>8.0</td>\n",
       "      <td>8.0</td>\n",
       "      <td>8.0</td>\n",
       "      <td>2</td>\n",
       "      <td>22</td>\n",
       "      <td>2</td>\n",
       "      <td>8</td>\n",
       "      <td>9</td>\n",
       "      <td>9</td>\n",
       "      <td>9</td>\n",
       "      <td>9</td>\n",
       "      <td>1</td>\n",
       "    </tr>\n",
       "    <tr>\n",
       "      <th>213</th>\n",
       "      <td>21.0</td>\n",
       "      <td>8.0</td>\n",
       "      <td>5.0</td>\n",
       "      <td>8.0</td>\n",
       "      <td>8.0</td>\n",
       "      <td>7.0</td>\n",
       "      <td>8.0</td>\n",
       "      <td>2</td>\n",
       "      <td>22</td>\n",
       "      <td>2</td>\n",
       "      <td>8</td>\n",
       "      <td>9</td>\n",
       "      <td>9</td>\n",
       "      <td>9</td>\n",
       "      <td>9</td>\n",
       "      <td>1</td>\n",
       "    </tr>\n",
       "  </tbody>\n",
       "</table>\n",
       "</div>"
      ],
      "text/plain": [
       "     age_partner  imprace_partner  attr_partner  sinc_partner  intel_partner  \\\n",
       "1           21.0              2.0           7.0           7.0            8.0   \n",
       "46          24.0              2.0           8.0           7.0            8.0   \n",
       "105         25.0              8.0           7.0           7.0            7.0   \n",
       "170         23.0              1.0           7.0           7.0            8.0   \n",
       "213         21.0              8.0           5.0           8.0            8.0   \n",
       "\n",
       "     fun_partner  amb_partner  race_partner  age_user  imprace_user  \\\n",
       "1            7.0          8.0             4        22             2   \n",
       "46           8.0          8.0             2        22             2   \n",
       "105          6.0          7.0             2        22             2   \n",
       "170          8.0          8.0             2        22             2   \n",
       "213          7.0          8.0             2        22             2   \n",
       "\n",
       "     attr_user  sinc_user  intel_user  fun_user  amb_user  race_user  \n",
       "1            8          9           9         9         9          1  \n",
       "46           8          9           9         9         9          1  \n",
       "105          8          9           9         9         9          1  \n",
       "170          8          9           9         9         9          1  \n",
       "213          8          9           9         9         9          1  "
      ]
     },
     "execution_count": 251,
     "metadata": {},
     "output_type": "execute_result"
    }
   ],
   "source": [
    "X_match = merge_df[[\"age_partner\", \"imprace_partner\", \"attr_partner\", \"sinc_partner\", \"intel_partner\", \n",
    "              \"fun_partner\", \"amb_partner\", \"race_partner\", \"age_user\", \"imprace_user\", \n",
    "              \"attr_user\", \"sinc_user\", \"intel_user\", \"fun_user\", \"amb_user\", \"race_user\"]]\n",
    "\n",
    "X_match = X_match.round(decimals=0)\n",
    "X_match.head()\n"
   ]
  },
  {
   "cell_type": "code",
   "execution_count": 258,
   "metadata": {},
   "outputs": [
    {
     "name": "stdout",
     "output_type": "stream",
     "text": [
      "[180, 1, 112, 114, 115, 116, 117, 134, 142, 143, 149, 175, 178, 196, 2, 204, 207, 211, 212, 213, 236, 24, 240, 252, 255, 263, 264, 265, 270, 3, 30, 305, 38, 323, 325, 331, 35, 350, 359, 383, 384, 388, 390, 392, 395, 416, 417, 434, 458, 466, 474, 478, 498, 509, 515, 518, 519, 520, 522, 523, 525, 527, 528, 56, 57, 6, 60, 76, 78, 82, 84, 86]\n"
     ]
    }
   ],
   "source": [
    "matches = rfmodel.predict(X_match)\n",
    "\n",
    "match_list = []\n",
    "\n",
    "for i in range(len(predictions)):\n",
    "     if matches[i] == 1:                    \n",
    "            match_list.append(merge_df[\"iid_partner\"][i])  \n",
    "    \n",
    "print(match_list)"
   ]
  },
  {
   "cell_type": "code",
   "execution_count": null,
   "metadata": {},
   "outputs": [],
   "source": []
  }
 ],
 "metadata": {
  "kernelspec": {
   "display_name": "Python 3",
   "language": "python",
   "name": "python3"
  },
  "language_info": {
   "codemirror_mode": {
    "name": "ipython",
    "version": 3
   },
   "file_extension": ".py",
   "mimetype": "text/x-python",
   "name": "python",
   "nbconvert_exporter": "python",
   "pygments_lexer": "ipython3",
   "version": "3.7.3"
  },
  "varInspector": {
   "cols": {
    "lenName": 16,
    "lenType": 16,
    "lenVar": 40
   },
   "kernels_config": {
    "python": {
     "delete_cmd_postfix": "",
     "delete_cmd_prefix": "del ",
     "library": "var_list.py",
     "varRefreshCmd": "print(var_dic_list())"
    },
    "r": {
     "delete_cmd_postfix": ") ",
     "delete_cmd_prefix": "rm(",
     "library": "var_list.r",
     "varRefreshCmd": "cat(var_dic_list()) "
    }
   },
   "types_to_exclude": [
    "module",
    "function",
    "builtin_function_or_method",
    "instance",
    "_Feature"
   ],
   "window_display": false
  }
 },
 "nbformat": 4,
 "nbformat_minor": 2
}
