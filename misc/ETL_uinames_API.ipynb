{
 "cells": [
  {
   "cell_type": "markdown",
   "metadata": {},
   "source": [
    "### Import dependencies"
   ]
  },
  {
   "cell_type": "code",
   "execution_count": 1,
   "metadata": {
    "ExecuteTime": {
     "end_time": "2019-10-27T16:34:07.338753Z",
     "start_time": "2019-10-27T16:34:05.283560Z"
    }
   },
   "outputs": [],
   "source": [
    "import requests\n",
    "import json\n",
    "import pandas as pd\n",
    "from random import randint"
   ]
  },
  {
   "cell_type": "markdown",
   "metadata": {},
   "source": [
    "### Get data from uinames.com API"
   ]
  },
  {
   "cell_type": "markdown",
   "metadata": {},
   "source": [
    "Set base URL and parameters."
   ]
  },
  {
   "cell_type": "code",
   "execution_count": 2,
   "metadata": {
    "ExecuteTime": {
     "end_time": "2019-10-27T16:38:42.194366Z",
     "start_time": "2019-10-27T16:38:42.191374Z"
    }
   },
   "outputs": [],
   "source": [
    "amount = 400\n",
    "gender = 'male'\n",
    "base_url = \"https://uinames.com/api/?\""
   ]
  },
  {
   "cell_type": "markdown",
   "metadata": {},
   "source": [
    "Call the API."
   ]
  },
  {
   "cell_type": "code",
   "execution_count": null,
   "metadata": {
    "ExecuteTime": {
     "end_time": "2019-10-27T16:38:56.571124Z",
     "start_time": "2019-10-27T16:38:54.768945Z"
    }
   },
   "outputs": [],
   "source": [
    "response = requests.get(f\"{base_url}amount={amount}&gender={gender}&ext\")\n",
    "data = response.json()"
   ]
  },
  {
   "cell_type": "markdown",
   "metadata": {},
   "source": [
    "Populate lists from API data."
   ]
  },
  {
   "cell_type": "code",
   "execution_count": 5,
   "metadata": {
    "ExecuteTime": {
     "end_time": "2019-10-27T16:38:46.616907Z",
     "start_time": "2019-10-27T16:38:46.612944Z"
    }
   },
   "outputs": [],
   "source": [
    "ufirstname = []\n",
    "ulastname = []\n",
    "upassword = []\n",
    "sname = []\n",
    "ugender = []\n",
    "uage = []\n",
    "uemail = []\n",
    "uphoto =[]\n",
    "uregion = []\n",
    "\n",
    "for user in data:\n",
    "    current_sname = user['name']+str(randint(100, 999))\n",
    "    print(current_sname)\n",
    "    ufirstname.append(user['name'])\n",
    "    ulastname.append(user['surname'])\n",
    "    upassword.append(user['password'])\n",
    "    sname.append(current_sname)\n",
    "    ugender.append(user['gender'])\n",
    "    uage.append(user['age'])\n",
    "    uemail.append(user['email'])\n",
    "    uphoto.append(user['photo'])    \n",
    "    uregion.append(user['region'])"
   ]
  },
  {
   "cell_type": "markdown",
   "metadata": {},
   "source": [
    "Create a dataframe from the lists and save to csv."
   ]
  },
  {
   "cell_type": "code",
   "execution_count": null,
   "metadata": {
    "ExecuteTime": {
     "end_time": "2019-10-27T16:38:56.571124Z",
     "start_time": "2019-10-27T16:38:54.768945Z"
    }
   },
   "outputs": [],
   "source": [
    "users = zip(ufirstname,ulastname,upassword,sname,ugender,uage,uemail,uphoto,uregion)\n",
    "df = pd.DataFrame(users, columns = ['firstname','lastname','password','screenname','gender','age','email','photo','region']) \n",
    "df.to_csv(f'{gender}_userdata.csv',index=False)"
   ]
  }
 ],
 "metadata": {
  "hide_input": false,
  "kernelspec": {
   "display_name": "Python [conda env:PythonData] *",
   "language": "python",
   "name": "conda-env-PythonData-py"
  },
  "language_info": {
   "codemirror_mode": {
    "name": "ipython",
    "version": 3
   },
   "file_extension": ".py",
   "mimetype": "text/x-python",
   "name": "python",
   "nbconvert_exporter": "python",
   "pygments_lexer": "ipython3",
   "version": "3.6.8"
  },
  "toc": {
   "base_numbering": 1,
   "nav_menu": {},
   "number_sections": true,
   "sideBar": true,
   "skip_h1_title": false,
   "title_cell": "Table of Contents",
   "title_sidebar": "Contents",
   "toc_cell": false,
   "toc_position": {},
   "toc_section_display": true,
   "toc_window_display": false
  },
  "varInspector": {
   "cols": {
    "lenName": 16,
    "lenType": 16,
    "lenVar": 40
   },
   "kernels_config": {
    "python": {
     "delete_cmd_postfix": "",
     "delete_cmd_prefix": "del ",
     "library": "var_list.py",
     "varRefreshCmd": "print(var_dic_list())"
    },
    "r": {
     "delete_cmd_postfix": ") ",
     "delete_cmd_prefix": "rm(",
     "library": "var_list.r",
     "varRefreshCmd": "cat(var_dic_list()) "
    }
   },
   "types_to_exclude": [
    "module",
    "function",
    "builtin_function_or_method",
    "instance",
    "_Feature"
   ],
   "window_display": false
  }
 },
 "nbformat": 4,
 "nbformat_minor": 2
}
