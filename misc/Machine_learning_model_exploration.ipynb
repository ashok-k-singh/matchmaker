{
 "cells": [
  {
   "cell_type": "markdown",
   "metadata": {},
   "source": [
    "## Import training and testing data"
   ]
  },
  {
   "cell_type": "markdown",
   "metadata": {},
   "source": [
    "### Import dependencies"
   ]
  },
  {
   "cell_type": "code",
   "execution_count": 1,
   "metadata": {
    "ExecuteTime": {
     "end_time": "2019-10-27T14:29:14.239415Z",
     "start_time": "2019-10-27T14:29:11.907290Z"
    }
   },
   "outputs": [],
   "source": [
    "import pandas as pd\n",
    "import numpy as np"
   ]
  },
  {
   "cell_type": "markdown",
   "metadata": {},
   "source": [
    "### Import data from S3 bucket"
   ]
  },
  {
   "cell_type": "code",
   "execution_count": 2,
   "metadata": {
    "ExecuteTime": {
     "end_time": "2019-10-27T14:29:15.501778Z",
     "start_time": "2019-10-27T14:29:14.258315Z"
    }
   },
   "outputs": [],
   "source": [
    "df = pd.read_csv('https://aws-matchmaker-bucket.s3-us-west-2.amazonaws.com/SpeedDatingPreprocessed.csv')"
   ]
  },
  {
   "cell_type": "code",
   "execution_count": 3,
   "metadata": {
    "ExecuteTime": {
     "end_time": "2019-10-27T14:29:19.185536Z",
     "start_time": "2019-10-27T14:29:19.144612Z"
    }
   },
   "outputs": [
    {
     "data": {
      "text/html": [
       "<div>\n",
       "<style scoped>\n",
       "    .dataframe tbody tr th:only-of-type {\n",
       "        vertical-align: middle;\n",
       "    }\n",
       "\n",
       "    .dataframe tbody tr th {\n",
       "        vertical-align: top;\n",
       "    }\n",
       "\n",
       "    .dataframe thead th {\n",
       "        text-align: right;\n",
       "    }\n",
       "</style>\n",
       "<table border=\"1\" class=\"dataframe\">\n",
       "  <thead>\n",
       "    <tr style=\"text-align: right;\">\n",
       "      <th></th>\n",
       "      <th>couple_id</th>\n",
       "      <th>f_age</th>\n",
       "      <th>f_imprace</th>\n",
       "      <th>f_attr</th>\n",
       "      <th>f_sinc</th>\n",
       "      <th>f_intel</th>\n",
       "      <th>f_fun</th>\n",
       "      <th>f_amb</th>\n",
       "      <th>f_race</th>\n",
       "      <th>f_intrace</th>\n",
       "      <th>...</th>\n",
       "      <th>m_imprace</th>\n",
       "      <th>m_attr</th>\n",
       "      <th>m_sinc</th>\n",
       "      <th>m_intel</th>\n",
       "      <th>m_fun</th>\n",
       "      <th>m_amb</th>\n",
       "      <th>m_race</th>\n",
       "      <th>samerace</th>\n",
       "      <th>match</th>\n",
       "      <th>m_intrace</th>\n",
       "    </tr>\n",
       "  </thead>\n",
       "  <tbody>\n",
       "    <tr>\n",
       "      <th>0</th>\n",
       "      <td>f1-m11</td>\n",
       "      <td>21.0</td>\n",
       "      <td>2.0</td>\n",
       "      <td>6.0</td>\n",
       "      <td>9.0</td>\n",
       "      <td>7.0</td>\n",
       "      <td>7.0</td>\n",
       "      <td>6.0</td>\n",
       "      <td>4.0</td>\n",
       "      <td>0.0</td>\n",
       "      <td>...</td>\n",
       "      <td>7.0</td>\n",
       "      <td>6.0</td>\n",
       "      <td>8.0</td>\n",
       "      <td>8.0</td>\n",
       "      <td>8.0</td>\n",
       "      <td>8.0</td>\n",
       "      <td>2.0</td>\n",
       "      <td>0</td>\n",
       "      <td>0</td>\n",
       "      <td>0.0</td>\n",
       "    </tr>\n",
       "    <tr>\n",
       "      <th>1</th>\n",
       "      <td>f1-m12</td>\n",
       "      <td>21.0</td>\n",
       "      <td>2.0</td>\n",
       "      <td>7.0</td>\n",
       "      <td>8.0</td>\n",
       "      <td>7.0</td>\n",
       "      <td>8.0</td>\n",
       "      <td>5.0</td>\n",
       "      <td>4.0</td>\n",
       "      <td>0.0</td>\n",
       "      <td>...</td>\n",
       "      <td>1.0</td>\n",
       "      <td>7.0</td>\n",
       "      <td>8.0</td>\n",
       "      <td>10.0</td>\n",
       "      <td>7.0</td>\n",
       "      <td>7.0</td>\n",
       "      <td>2.0</td>\n",
       "      <td>0</td>\n",
       "      <td>0</td>\n",
       "      <td>0.0</td>\n",
       "    </tr>\n",
       "    <tr>\n",
       "      <th>2</th>\n",
       "      <td>f1-m13</td>\n",
       "      <td>21.0</td>\n",
       "      <td>2.0</td>\n",
       "      <td>5.0</td>\n",
       "      <td>8.0</td>\n",
       "      <td>9.0</td>\n",
       "      <td>8.0</td>\n",
       "      <td>5.0</td>\n",
       "      <td>4.0</td>\n",
       "      <td>2.0</td>\n",
       "      <td>...</td>\n",
       "      <td>3.0</td>\n",
       "      <td>10.0</td>\n",
       "      <td>10.0</td>\n",
       "      <td>10.0</td>\n",
       "      <td>10.0</td>\n",
       "      <td>10.0</td>\n",
       "      <td>4.0</td>\n",
       "      <td>1</td>\n",
       "      <td>1</td>\n",
       "      <td>3.0</td>\n",
       "    </tr>\n",
       "    <tr>\n",
       "      <th>3</th>\n",
       "      <td>f1-m14</td>\n",
       "      <td>21.0</td>\n",
       "      <td>2.0</td>\n",
       "      <td>7.0</td>\n",
       "      <td>6.0</td>\n",
       "      <td>8.0</td>\n",
       "      <td>7.0</td>\n",
       "      <td>6.0</td>\n",
       "      <td>4.0</td>\n",
       "      <td>0.0</td>\n",
       "      <td>...</td>\n",
       "      <td>1.0</td>\n",
       "      <td>7.0</td>\n",
       "      <td>8.0</td>\n",
       "      <td>9.0</td>\n",
       "      <td>8.0</td>\n",
       "      <td>9.0</td>\n",
       "      <td>2.0</td>\n",
       "      <td>0</td>\n",
       "      <td>1</td>\n",
       "      <td>0.0</td>\n",
       "    </tr>\n",
       "    <tr>\n",
       "      <th>4</th>\n",
       "      <td>f1-m15</td>\n",
       "      <td>21.0</td>\n",
       "      <td>2.0</td>\n",
       "      <td>5.0</td>\n",
       "      <td>6.0</td>\n",
       "      <td>7.0</td>\n",
       "      <td>7.0</td>\n",
       "      <td>6.0</td>\n",
       "      <td>4.0</td>\n",
       "      <td>0.0</td>\n",
       "      <td>...</td>\n",
       "      <td>3.0</td>\n",
       "      <td>8.0</td>\n",
       "      <td>7.0</td>\n",
       "      <td>9.0</td>\n",
       "      <td>6.0</td>\n",
       "      <td>9.0</td>\n",
       "      <td>3.0</td>\n",
       "      <td>0</td>\n",
       "      <td>1</td>\n",
       "      <td>0.0</td>\n",
       "    </tr>\n",
       "  </tbody>\n",
       "</table>\n",
       "<p>5 rows × 21 columns</p>\n",
       "</div>"
      ],
      "text/plain": [
       "  couple_id  f_age  f_imprace  f_attr  f_sinc  f_intel  f_fun  f_amb  f_race  \\\n",
       "0    f1-m11   21.0        2.0     6.0     9.0      7.0    7.0    6.0     4.0   \n",
       "1    f1-m12   21.0        2.0     7.0     8.0      7.0    8.0    5.0     4.0   \n",
       "2    f1-m13   21.0        2.0     5.0     8.0      9.0    8.0    5.0     4.0   \n",
       "3    f1-m14   21.0        2.0     7.0     6.0      8.0    7.0    6.0     4.0   \n",
       "4    f1-m15   21.0        2.0     5.0     6.0      7.0    7.0    6.0     4.0   \n",
       "\n",
       "   f_intrace  ...  m_imprace  m_attr  m_sinc  m_intel  m_fun  m_amb  m_race  \\\n",
       "0        0.0  ...        7.0     6.0     8.0      8.0    8.0    8.0     2.0   \n",
       "1        0.0  ...        1.0     7.0     8.0     10.0    7.0    7.0     2.0   \n",
       "2        2.0  ...        3.0    10.0    10.0     10.0   10.0   10.0     4.0   \n",
       "3        0.0  ...        1.0     7.0     8.0      9.0    8.0    9.0     2.0   \n",
       "4        0.0  ...        3.0     8.0     7.0      9.0    6.0    9.0     3.0   \n",
       "\n",
       "   samerace  match  m_intrace  \n",
       "0         0      0        0.0  \n",
       "1         0      0        0.0  \n",
       "2         1      1        3.0  \n",
       "3         0      1        0.0  \n",
       "4         0      1        0.0  \n",
       "\n",
       "[5 rows x 21 columns]"
      ]
     },
     "execution_count": 3,
     "metadata": {},
     "output_type": "execute_result"
    }
   ],
   "source": [
    "df.head()"
   ]
  },
  {
   "cell_type": "markdown",
   "metadata": {},
   "source": [
    "Prepare to train and test models: split data into features, X, and classes, y."
   ]
  },
  {
   "cell_type": "code",
   "execution_count": 4,
   "metadata": {
    "ExecuteTime": {
     "end_time": "2019-10-27T14:29:25.114483Z",
     "start_time": "2019-10-27T14:29:25.108561Z"
    }
   },
   "outputs": [
    {
     "name": "stdout",
     "output_type": "stream",
     "text": [
      "(3381, 19) (3381,)\n"
     ]
    }
   ],
   "source": [
    "X = df.drop([\"couple_id\",\"match\"], axis=1)\n",
    "y = df[\"match\"]\n",
    "print(X.shape, y.shape)"
   ]
  },
  {
   "cell_type": "markdown",
   "metadata": {},
   "source": [
    "Split data into a set for training and a smaller set for testing."
   ]
  },
  {
   "cell_type": "code",
   "execution_count": 5,
   "metadata": {
    "ExecuteTime": {
     "end_time": "2019-10-27T14:29:32.452435Z",
     "start_time": "2019-10-27T14:29:28.678720Z"
    }
   },
   "outputs": [],
   "source": [
    "from sklearn.model_selection import train_test_split\n",
    "X_train, X_test, y_train, y_test = train_test_split(X, y, random_state=42)"
   ]
  },
  {
   "cell_type": "markdown",
   "metadata": {},
   "source": [
    "## Evaluate various models"
   ]
  },
  {
   "cell_type": "markdown",
   "metadata": {},
   "source": [
    "### Logistic Regression"
   ]
  },
  {
   "cell_type": "code",
   "execution_count": 6,
   "metadata": {
    "ExecuteTime": {
     "end_time": "2019-10-27T14:30:07.999342Z",
     "start_time": "2019-10-27T14:30:07.667792Z"
    }
   },
   "outputs": [],
   "source": [
    "from sklearn.linear_model import LogisticRegression"
   ]
  },
  {
   "cell_type": "markdown",
   "metadata": {},
   "source": [
    "Create a logistic regression classification model and fit it to the training data."
   ]
  },
  {
   "cell_type": "code",
   "execution_count": 7,
   "metadata": {
    "ExecuteTime": {
     "end_time": "2019-10-27T14:30:10.455279Z",
     "start_time": "2019-10-27T14:30:10.360532Z"
    }
   },
   "outputs": [
    {
     "data": {
      "text/plain": [
       "LogisticRegression(C=1.0, class_weight=None, dual=False, fit_intercept=True,\n",
       "          intercept_scaling=1, max_iter=100, multi_class='warn',\n",
       "          n_jobs=None, penalty='l2', random_state=None, solver='newton-cg',\n",
       "          tol=0.0001, verbose=0, warm_start=False)"
      ]
     },
     "execution_count": 7,
     "metadata": {},
     "output_type": "execute_result"
    }
   ],
   "source": [
    "classifier = LogisticRegression(solver='newton-cg')\n",
    "classifier.fit(X_train, y_train)"
   ]
  },
  {
   "cell_type": "markdown",
   "metadata": {},
   "source": [
    "Review scores, confusion matrix, and classification report."
   ]
  },
  {
   "cell_type": "code",
   "execution_count": 8,
   "metadata": {
    "ExecuteTime": {
     "end_time": "2019-10-27T14:30:15.979481Z",
     "start_time": "2019-10-27T14:30:15.967566Z"
    }
   },
   "outputs": [
    {
     "name": "stdout",
     "output_type": "stream",
     "text": [
      "Training Data Score: 0.8445759368836292\n",
      "Testing Data Score: 0.8557919621749409\n"
     ]
    }
   ],
   "source": [
    "print(f\"Training Data Score: {classifier.score(X_train, y_train)}\")\n",
    "print(f\"Testing Data Score: {classifier.score(X_test, y_test)}\")"
   ]
  },
  {
   "cell_type": "code",
   "execution_count": 9,
   "metadata": {
    "ExecuteTime": {
     "end_time": "2019-10-27T14:30:17.095612Z",
     "start_time": "2019-10-27T14:30:17.091636Z"
    }
   },
   "outputs": [],
   "source": [
    "predictions = classifier.predict(X_test)"
   ]
  },
  {
   "cell_type": "code",
   "execution_count": 10,
   "metadata": {
    "ExecuteTime": {
     "end_time": "2019-10-27T14:30:18.205046Z",
     "start_time": "2019-10-27T14:30:18.196075Z"
    }
   },
   "outputs": [
    {
     "name": "stdout",
     "output_type": "stream",
     "text": [
      "tn: 684   fp:  21\n",
      "fn: 101   tp:  40\n"
     ]
    }
   ],
   "source": [
    "from sklearn.metrics import confusion_matrix\n",
    "tn, fp, fn, tp = confusion_matrix(y_test, predictions).ravel()\n",
    "print(f\"tn: {tn:3d}   fp: {fp:3d}\")\n",
    "print(f\"fn: {fn:3d}   tp: {tp:3d}\")"
   ]
  },
  {
   "cell_type": "code",
   "execution_count": 11,
   "metadata": {
    "ExecuteTime": {
     "end_time": "2019-10-27T14:30:21.183494Z",
     "start_time": "2019-10-27T14:30:21.172558Z"
    }
   },
   "outputs": [
    {
     "name": "stdout",
     "output_type": "stream",
     "text": [
      "              precision    recall  f1-score   support\n",
      "\n",
      "           0       0.87      0.97      0.92       705\n",
      "           1       0.66      0.28      0.40       141\n",
      "\n",
      "   micro avg       0.86      0.86      0.86       846\n",
      "   macro avg       0.76      0.63      0.66       846\n",
      "weighted avg       0.84      0.86      0.83       846\n",
      "\n"
     ]
    }
   ],
   "source": [
    "from sklearn.metrics import classification_report\n",
    "print(classification_report(y_test, predictions,target_names=[\"0\", \"1\"]))"
   ]
  },
  {
   "cell_type": "markdown",
   "metadata": {},
   "source": [
    "### K Nearest Neighbors"
   ]
  },
  {
   "cell_type": "markdown",
   "metadata": {},
   "source": [
    "Create and fit several different K Nearest Neighbor models."
   ]
  },
  {
   "cell_type": "code",
   "execution_count": 12,
   "metadata": {
    "ExecuteTime": {
     "end_time": "2019-10-27T14:30:36.370139Z",
     "start_time": "2019-10-27T14:30:33.522665Z"
    }
   },
   "outputs": [
    {
     "name": "stdout",
     "output_type": "stream",
     "text": [
      "k: 1, Train/Test Score: 1.000/0.751\n",
      "k: 3, Train/Test Score: 0.891/0.807\n",
      "k: 5, Train/Test Score: 0.871/0.822\n",
      "k: 7, Train/Test Score: 0.865/0.851\n",
      "k: 9, Train/Test Score: 0.855/0.848\n",
      "k: 11, Train/Test Score: 0.852/0.846\n",
      "k: 13, Train/Test Score: 0.848/0.849\n",
      "k: 15, Train/Test Score: 0.848/0.850\n",
      "k: 17, Train/Test Score: 0.845/0.851\n",
      "k: 19, Train/Test Score: 0.842/0.848\n"
     ]
    }
   ],
   "source": [
    "from sklearn.neighbors import KNeighborsClassifier\n",
    "\n",
    "train_scores = []\n",
    "test_scores = []\n",
    "for k in range(1, 20, 2):\n",
    "    knn = KNeighborsClassifier(n_neighbors=k)\n",
    "    knn.fit(X_train, y_train)\n",
    "    train_score = knn.score(X_train, y_train)\n",
    "    test_score = knn.score(X_test, y_test)\n",
    "    train_scores.append(train_score)\n",
    "    test_scores.append(test_score)\n",
    "    print(f\"k: {k}, Train/Test Score: {train_score:.3f}/{test_score:.3f}\")"
   ]
  },
  {
   "cell_type": "markdown",
   "metadata": {},
   "source": [
    "The best models appear to be K = 15 and 17."
   ]
  },
  {
   "cell_type": "code",
   "execution_count": 13,
   "metadata": {
    "ExecuteTime": {
     "end_time": "2019-10-27T14:30:39.145765Z",
     "start_time": "2019-10-27T14:30:39.134845Z"
    }
   },
   "outputs": [
    {
     "data": {
      "text/plain": [
       "KNeighborsClassifier(algorithm='auto', leaf_size=30, metric='minkowski',\n",
       "           metric_params=None, n_jobs=None, n_neighbors=15, p=2,\n",
       "           weights='uniform')"
      ]
     },
     "execution_count": 13,
     "metadata": {},
     "output_type": "execute_result"
    }
   ],
   "source": [
    "knn = KNeighborsClassifier(n_neighbors=15)\n",
    "knn.fit(X_train, y_train)"
   ]
  },
  {
   "cell_type": "markdown",
   "metadata": {},
   "source": [
    "Review scores, confusion matrix, and classification report."
   ]
  },
  {
   "cell_type": "code",
   "execution_count": 14,
   "metadata": {
    "ExecuteTime": {
     "end_time": "2019-10-27T14:30:40.927981Z",
     "start_time": "2019-10-27T14:30:40.623823Z"
    }
   },
   "outputs": [
    {
     "name": "stdout",
     "output_type": "stream",
     "text": [
      "Training Data Score: 0.8481262327416174\n",
      "Testing Data Score: 0.8498817966903073\n"
     ]
    }
   ],
   "source": [
    "print(f\"Training Data Score: {knn.score(X_train, y_train)}\")\n",
    "print(f\"Testing Data Score: {knn.score(X_test, y_test)}\")"
   ]
  },
  {
   "cell_type": "code",
   "execution_count": 15,
   "metadata": {
    "ExecuteTime": {
     "end_time": "2019-10-27T14:30:44.376090Z",
     "start_time": "2019-10-27T14:30:44.281311Z"
    }
   },
   "outputs": [],
   "source": [
    "predictions = knn.predict(X_test)"
   ]
  },
  {
   "cell_type": "code",
   "execution_count": 16,
   "metadata": {
    "ExecuteTime": {
     "end_time": "2019-10-27T14:30:45.385459Z",
     "start_time": "2019-10-27T14:30:45.376482Z"
    }
   },
   "outputs": [
    {
     "name": "stdout",
     "output_type": "stream",
     "text": [
      "tn: 691   fp:  14\n",
      "fn: 113   tp:  28\n"
     ]
    }
   ],
   "source": [
    "tn, fp, fn, tp = confusion_matrix(y_test, predictions).ravel()\n",
    "print(f\"tn: {tn:3d}   fp: {fp:3d}\")\n",
    "print(f\"fn: {fn:3d}   tp: {tp:3d}\")"
   ]
  },
  {
   "cell_type": "code",
   "execution_count": 17,
   "metadata": {
    "ExecuteTime": {
     "end_time": "2019-10-27T14:30:46.592519Z",
     "start_time": "2019-10-27T14:30:46.583544Z"
    }
   },
   "outputs": [
    {
     "name": "stdout",
     "output_type": "stream",
     "text": [
      "              precision    recall  f1-score   support\n",
      "\n",
      "           0       0.86      0.98      0.92       705\n",
      "           1       0.67      0.20      0.31       141\n",
      "\n",
      "   micro avg       0.85      0.85      0.85       846\n",
      "   macro avg       0.76      0.59      0.61       846\n",
      "weighted avg       0.83      0.85      0.81       846\n",
      "\n"
     ]
    }
   ],
   "source": [
    "print(classification_report(y_test, predictions,target_names=[\"0\", \"1\"]))"
   ]
  },
  {
   "cell_type": "markdown",
   "metadata": {},
   "source": [
    "### Decision Tree"
   ]
  },
  {
   "cell_type": "markdown",
   "metadata": {},
   "source": [
    "Create and fit a decision tree model."
   ]
  },
  {
   "cell_type": "code",
   "execution_count": 18,
   "metadata": {
    "ExecuteTime": {
     "end_time": "2019-10-27T14:30:50.941646Z",
     "start_time": "2019-10-27T14:30:50.830611Z"
    }
   },
   "outputs": [],
   "source": [
    "from sklearn import tree\n",
    "\n",
    "dtc = tree.DecisionTreeClassifier()\n",
    "dtc = dtc.fit(X_train, y_train)"
   ]
  },
  {
   "cell_type": "markdown",
   "metadata": {},
   "source": [
    "Review scores, confusion matrix, and classification report."
   ]
  },
  {
   "cell_type": "code",
   "execution_count": 19,
   "metadata": {
    "ExecuteTime": {
     "end_time": "2019-10-27T14:30:52.226429Z",
     "start_time": "2019-10-27T14:30:52.216476Z"
    }
   },
   "outputs": [
    {
     "name": "stdout",
     "output_type": "stream",
     "text": [
      "Training Data Score: 1.0\n",
      "Testing Data Score: 0.7565011820330969\n"
     ]
    }
   ],
   "source": [
    "print(f\"Training Data Score: {dtc.score(X_train, y_train)}\")\n",
    "print(f\"Testing Data Score: {dtc.score(X_test, y_test)}\")"
   ]
  },
  {
   "cell_type": "code",
   "execution_count": 20,
   "metadata": {
    "ExecuteTime": {
     "end_time": "2019-10-27T14:30:53.592543Z",
     "start_time": "2019-10-27T14:30:53.587527Z"
    }
   },
   "outputs": [],
   "source": [
    "predictions = dtc.predict(X_test)"
   ]
  },
  {
   "cell_type": "code",
   "execution_count": 21,
   "metadata": {
    "ExecuteTime": {
     "end_time": "2019-10-27T14:30:54.901532Z",
     "start_time": "2019-10-27T14:30:54.893538Z"
    }
   },
   "outputs": [
    {
     "name": "stdout",
     "output_type": "stream",
     "text": [
      "tn: 588   fp: 117\n",
      "fn:  89   tp:  52\n"
     ]
    }
   ],
   "source": [
    "tn, fp, fn, tp = confusion_matrix(y_test, predictions).ravel()\n",
    "print(f\"tn: {tn:3d}   fp: {fp:3d}\")\n",
    "print(f\"fn: {fn:3d}   tp: {tp:3d}\")"
   ]
  },
  {
   "cell_type": "code",
   "execution_count": 22,
   "metadata": {
    "ExecuteTime": {
     "end_time": "2019-10-27T14:30:56.281400Z",
     "start_time": "2019-10-27T14:30:56.270391Z"
    }
   },
   "outputs": [
    {
     "name": "stdout",
     "output_type": "stream",
     "text": [
      "              precision    recall  f1-score   support\n",
      "\n",
      "           0       0.87      0.83      0.85       705\n",
      "           1       0.31      0.37      0.34       141\n",
      "\n",
      "   micro avg       0.76      0.76      0.76       846\n",
      "   macro avg       0.59      0.60      0.59       846\n",
      "weighted avg       0.78      0.76      0.77       846\n",
      "\n"
     ]
    }
   ],
   "source": [
    "print(classification_report(y_test, predictions,target_names=[\"0\", \"1\"]))"
   ]
  },
  {
   "cell_type": "markdown",
   "metadata": {},
   "source": [
    "### Random Forest"
   ]
  },
  {
   "cell_type": "markdown",
   "metadata": {},
   "source": [
    "Create and fit a random forest model."
   ]
  },
  {
   "cell_type": "code",
   "execution_count": 23,
   "metadata": {
    "ExecuteTime": {
     "end_time": "2019-10-27T14:30:59.207226Z",
     "start_time": "2019-10-27T14:30:58.488512Z"
    }
   },
   "outputs": [],
   "source": [
    "from sklearn.ensemble import RandomForestClassifier\n",
    "rf = RandomForestClassifier(n_estimators=300)\n",
    "rf = rf.fit(X_train, y_train)"
   ]
  },
  {
   "cell_type": "markdown",
   "metadata": {},
   "source": [
    "Review scores, confusion matrix, and classification report."
   ]
  },
  {
   "cell_type": "code",
   "execution_count": 24,
   "metadata": {
    "ExecuteTime": {
     "end_time": "2019-10-27T14:30:59.681241Z",
     "start_time": "2019-10-27T14:30:59.477830Z"
    }
   },
   "outputs": [
    {
     "name": "stdout",
     "output_type": "stream",
     "text": [
      "Training Data Score: 1.0\n",
      "Testing Data Score: 0.8522458628841607\n"
     ]
    }
   ],
   "source": [
    "print(f\"Training Data Score: {rf.score(X_train, y_train)}\")\n",
    "print(f\"Testing Data Score: {rf.score(X_test, y_test)}\")"
   ]
  },
  {
   "cell_type": "code",
   "execution_count": 25,
   "metadata": {
    "ExecuteTime": {
     "end_time": "2019-10-27T14:31:00.484161Z",
     "start_time": "2019-10-27T14:31:00.412375Z"
    }
   },
   "outputs": [],
   "source": [
    "predictions = rf.predict(X_test)"
   ]
  },
  {
   "cell_type": "code",
   "execution_count": 26,
   "metadata": {
    "ExecuteTime": {
     "end_time": "2019-10-27T14:31:01.534233Z",
     "start_time": "2019-10-27T14:31:01.526254Z"
    }
   },
   "outputs": [
    {
     "name": "stdout",
     "output_type": "stream",
     "text": [
      "tn: 689   fp:  16\n",
      "fn: 109   tp:  32\n"
     ]
    }
   ],
   "source": [
    "tn, fp, fn, tp = confusion_matrix(y_test, predictions).ravel()\n",
    "print(f\"tn: {tn:3d}   fp: {fp:3d}\")\n",
    "print(f\"fn: {fn:3d}   tp: {tp:3d}\")"
   ]
  },
  {
   "cell_type": "code",
   "execution_count": 27,
   "metadata": {
    "ExecuteTime": {
     "end_time": "2019-10-27T14:31:02.447720Z",
     "start_time": "2019-10-27T14:31:02.436750Z"
    }
   },
   "outputs": [
    {
     "name": "stdout",
     "output_type": "stream",
     "text": [
      "              precision    recall  f1-score   support\n",
      "\n",
      "           0       0.86      0.98      0.92       705\n",
      "           1       0.67      0.23      0.34       141\n",
      "\n",
      "   micro avg       0.85      0.85      0.85       846\n",
      "   macro avg       0.77      0.60      0.63       846\n",
      "weighted avg       0.83      0.85      0.82       846\n",
      "\n"
     ]
    }
   ],
   "source": [
    "print(classification_report(y_test, predictions,target_names=[\"0\", \"1\"]))"
   ]
  },
  {
   "cell_type": "markdown",
   "metadata": {},
   "source": [
    "### Support Vector Machine"
   ]
  },
  {
   "cell_type": "markdown",
   "metadata": {},
   "source": [
    "Create and fit a support vector machine model."
   ]
  },
  {
   "cell_type": "code",
   "execution_count": 28,
   "metadata": {
    "ExecuteTime": {
     "end_time": "2019-10-27T14:36:46.149853Z",
     "start_time": "2019-10-27T14:36:45.576292Z"
    }
   },
   "outputs": [
    {
     "data": {
      "text/plain": [
       "SVC(C=1.0, cache_size=200, class_weight='balanced', coef0=0.0,\n",
       "  decision_function_shape='ovr', degree=3, gamma='auto_deprecated',\n",
       "  kernel='linear', max_iter=-1, probability=False, random_state=None,\n",
       "  shrinking=True, tol=0.001, verbose=False)"
      ]
     },
     "execution_count": 28,
     "metadata": {},
     "output_type": "execute_result"
    }
   ],
   "source": [
    "from sklearn.svm import SVC \n",
    "\n",
    "svcModel = SVC(kernel='linear',class_weight='balanced')\n",
    "svcModel.fit(X_train, y_train)"
   ]
  },
  {
   "cell_type": "markdown",
   "metadata": {},
   "source": [
    "Review scores, confusion matrix, and classification report."
   ]
  },
  {
   "cell_type": "code",
   "execution_count": 29,
   "metadata": {
    "ExecuteTime": {
     "end_time": "2019-10-27T14:36:46.489942Z",
     "start_time": "2019-10-27T14:36:46.395197Z"
    }
   },
   "outputs": [
    {
     "name": "stdout",
     "output_type": "stream",
     "text": [
      "Training Data Score: 0.7400394477317555\n",
      "Testing Data Score: 0.7092198581560284\n"
     ]
    }
   ],
   "source": [
    "print(f\"Training Data Score: {svcModel.score(X_train, y_train)}\")\n",
    "print(f\"Testing Data Score: {svcModel.score(X_test, y_test)}\")"
   ]
  },
  {
   "cell_type": "code",
   "execution_count": 30,
   "metadata": {
    "ExecuteTime": {
     "end_time": "2019-10-27T14:36:47.736026Z",
     "start_time": "2019-10-27T14:36:47.711098Z"
    }
   },
   "outputs": [],
   "source": [
    "predictions = svcModel.predict(X_test)"
   ]
  },
  {
   "cell_type": "code",
   "execution_count": 31,
   "metadata": {
    "ExecuteTime": {
     "end_time": "2019-10-27T14:36:49.127011Z",
     "start_time": "2019-10-27T14:36:49.120071Z"
    }
   },
   "outputs": [
    {
     "name": "stdout",
     "output_type": "stream",
     "text": [
      "tn: 499   fp: 206\n",
      "fn:  40   tp: 101\n"
     ]
    }
   ],
   "source": [
    "tn, fp, fn, tp = confusion_matrix(y_test, predictions).ravel()\n",
    "print(f\"tn: {tn:3d}   fp: {fp:3d}\")\n",
    "print(f\"fn: {fn:3d}   tp: {tp:3d}\")"
   ]
  },
  {
   "cell_type": "code",
   "execution_count": 32,
   "metadata": {
    "ExecuteTime": {
     "end_time": "2019-10-27T14:36:50.333635Z",
     "start_time": "2019-10-27T14:36:50.323704Z"
    }
   },
   "outputs": [
    {
     "name": "stdout",
     "output_type": "stream",
     "text": [
      "              precision    recall  f1-score   support\n",
      "\n",
      "           0       0.93      0.71      0.80       705\n",
      "           1       0.33      0.72      0.45       141\n",
      "\n",
      "   micro avg       0.71      0.71      0.71       846\n",
      "   macro avg       0.63      0.71      0.63       846\n",
      "weighted avg       0.83      0.71      0.74       846\n",
      "\n"
     ]
    }
   ],
   "source": [
    "print(classification_report(y_test, predictions,target_names=[\"0\", \"1\"]))"
   ]
  },
  {
   "cell_type": "markdown",
   "metadata": {},
   "source": [
    "### Deep Learning"
   ]
  },
  {
   "cell_type": "markdown",
   "metadata": {},
   "source": [
    "Create and fit a deep learning/neural network model."
   ]
  },
  {
   "cell_type": "code",
   "execution_count": 33,
   "metadata": {
    "ExecuteTime": {
     "end_time": "2019-10-27T14:56:45.263703Z",
     "start_time": "2019-10-27T14:56:45.184898Z"
    }
   },
   "outputs": [
    {
     "name": "stderr",
     "output_type": "stream",
     "text": [
      "Using TensorFlow backend.\n"
     ]
    }
   ],
   "source": [
    "from keras.models import Sequential\n",
    "from keras.layers import Dense\n",
    "\n",
    "model = Sequential()\n",
    "model.add(Dense(units=10, activation='relu', input_dim=19))\n",
    "model.add(Dense(units=10, activation='relu'))\n",
    "model.add(Dense(units=10, activation='relu'))\n",
    "model.add(Dense(units=10, activation='relu'))\n",
    "model.add(Dense(units=10, activation='relu'))\n",
    "model.add(Dense(units=2, activation='softmax'))"
   ]
  },
  {
   "cell_type": "code",
   "execution_count": 34,
   "metadata": {
    "ExecuteTime": {
     "end_time": "2019-10-27T14:56:46.164270Z",
     "start_time": "2019-10-27T14:56:46.158249Z"
    }
   },
   "outputs": [
    {
     "name": "stdout",
     "output_type": "stream",
     "text": [
      "Model: \"sequential_1\"\n",
      "_________________________________________________________________\n",
      "Layer (type)                 Output Shape              Param #   \n",
      "=================================================================\n",
      "dense_1 (Dense)              (None, 10)                200       \n",
      "_________________________________________________________________\n",
      "dense_2 (Dense)              (None, 10)                110       \n",
      "_________________________________________________________________\n",
      "dense_3 (Dense)              (None, 10)                110       \n",
      "_________________________________________________________________\n",
      "dense_4 (Dense)              (None, 10)                110       \n",
      "_________________________________________________________________\n",
      "dense_5 (Dense)              (None, 10)                110       \n",
      "_________________________________________________________________\n",
      "dense_6 (Dense)              (None, 2)                 22        \n",
      "=================================================================\n",
      "Total params: 662\n",
      "Trainable params: 662\n",
      "Non-trainable params: 0\n",
      "_________________________________________________________________\n"
     ]
    }
   ],
   "source": [
    "model.summary()"
   ]
  },
  {
   "cell_type": "code",
   "execution_count": 35,
   "metadata": {
    "ExecuteTime": {
     "end_time": "2019-10-27T14:56:47.167558Z",
     "start_time": "2019-10-27T14:56:47.088760Z"
    }
   },
   "outputs": [],
   "source": [
    "model.compile(optimizer='adam',\n",
    "              loss='sparse_categorical_crossentropy',\n",
    "              metrics=['accuracy'])"
   ]
  },
  {
   "cell_type": "code",
   "execution_count": 36,
   "metadata": {
    "ExecuteTime": {
     "end_time": "2019-10-27T14:56:47.957468Z",
     "start_time": "2019-10-27T14:56:47.953477Z"
    }
   },
   "outputs": [
    {
     "name": "stdout",
     "output_type": "stream",
     "text": [
      "(3381, 19) (3381, 1)\n"
     ]
    }
   ],
   "source": [
    "y = np.array(y).reshape(-1,1)\n",
    "print(X.shape, y.shape)"
   ]
  },
  {
   "cell_type": "code",
   "execution_count": 37,
   "metadata": {
    "ExecuteTime": {
     "end_time": "2019-10-27T14:57:01.101501Z",
     "start_time": "2019-10-27T14:56:49.721756Z"
    }
   },
   "outputs": [
    {
     "name": "stdout",
     "output_type": "stream",
     "text": [
      "Epoch 1/200\n",
      "2535/2535 [==============================] - 0s 80us/step - loss: 0.4660 - accuracy: 0.8256\n",
      "Epoch 2/200\n",
      "2535/2535 [==============================] - 0s 25us/step - loss: 0.4503 - accuracy: 0.8256\n",
      "Epoch 3/200\n",
      "2535/2535 [==============================] - 0s 24us/step - loss: 0.4417 - accuracy: 0.8256\n",
      "Epoch 4/200\n",
      "2535/2535 [==============================] - 0s 24us/step - loss: 0.4251 - accuracy: 0.8256\n",
      "Epoch 5/200\n",
      "2535/2535 [==============================] - 0s 24us/step - loss: 0.4150 - accuracy: 0.8256\n",
      "Epoch 6/200\n",
      "2535/2535 [==============================] - 0s 26us/step - loss: 0.4086 - accuracy: 0.8252\n",
      "Epoch 7/200\n",
      "2535/2535 [==============================] - 0s 24us/step - loss: 0.4055 - accuracy: 0.8256\n",
      "Epoch 8/200\n",
      "2535/2535 [==============================] - 0s 24us/step - loss: 0.4018 - accuracy: 0.8264\n",
      "Epoch 9/200\n",
      "2535/2535 [==============================] - 0s 25us/step - loss: 0.4012 - accuracy: 0.8256\n",
      "Epoch 10/200\n",
      "2535/2535 [==============================] - 0s 24us/step - loss: 0.3957 - accuracy: 0.8260\n",
      "Epoch 11/200\n",
      "2535/2535 [==============================] - 0s 26us/step - loss: 0.3959 - accuracy: 0.8260\n",
      "Epoch 12/200\n",
      "2535/2535 [==============================] - 0s 25us/step - loss: 0.3972 - accuracy: 0.8280\n",
      "Epoch 13/200\n",
      "2535/2535 [==============================] - 0s 25us/step - loss: 0.3928 - accuracy: 0.8331\n",
      "Epoch 14/200\n",
      "2535/2535 [==============================] - 0s 24us/step - loss: 0.3912 - accuracy: 0.8387\n",
      "Epoch 15/200\n",
      "2535/2535 [==============================] - 0s 25us/step - loss: 0.3884 - accuracy: 0.8402\n",
      "Epoch 16/200\n",
      "2535/2535 [==============================] - 0s 24us/step - loss: 0.3892 - accuracy: 0.8418\n",
      "Epoch 17/200\n",
      "2535/2535 [==============================] - 0s 24us/step - loss: 0.3858 - accuracy: 0.8398\n",
      "Epoch 18/200\n",
      "2535/2535 [==============================] - 0s 25us/step - loss: 0.3857 - accuracy: 0.8410\n",
      "Epoch 19/200\n",
      "2535/2535 [==============================] - 0s 26us/step - loss: 0.3838 - accuracy: 0.8458\n",
      "Epoch 20/200\n",
      "2535/2535 [==============================] - 0s 25us/step - loss: 0.3820 - accuracy: 0.8438\n",
      "Epoch 21/200\n",
      "2535/2535 [==============================] - 0s 25us/step - loss: 0.3824 - accuracy: 0.8414\n",
      "Epoch 22/200\n",
      "2535/2535 [==============================] - 0s 25us/step - loss: 0.3847 - accuracy: 0.8406\n",
      "Epoch 23/200\n",
      "2535/2535 [==============================] - 0s 25us/step - loss: 0.3806 - accuracy: 0.8442\n",
      "Epoch 24/200\n",
      "2535/2535 [==============================] - 0s 25us/step - loss: 0.3812 - accuracy: 0.8402\n",
      "Epoch 25/200\n",
      "2535/2535 [==============================] - 0s 24us/step - loss: 0.3802 - accuracy: 0.8438\n",
      "Epoch 26/200\n",
      "2535/2535 [==============================] - 0s 24us/step - loss: 0.3793 - accuracy: 0.8465\n",
      "Epoch 27/200\n",
      "2535/2535 [==============================] - 0s 24us/step - loss: 0.3798 - accuracy: 0.8481\n",
      "Epoch 28/200\n",
      "2535/2535 [==============================] - 0s 24us/step - loss: 0.3808 - accuracy: 0.8402\n",
      "Epoch 29/200\n",
      "2535/2535 [==============================] - 0s 25us/step - loss: 0.3775 - accuracy: 0.8477\n",
      "Epoch 30/200\n",
      "2535/2535 [==============================] - 0s 25us/step - loss: 0.3753 - accuracy: 0.8493\n",
      "Epoch 31/200\n",
      "2535/2535 [==============================] - 0s 25us/step - loss: 0.3840 - accuracy: 0.8454\n",
      "Epoch 32/200\n",
      "2535/2535 [==============================] - 0s 24us/step - loss: 0.3771 - accuracy: 0.8422\n",
      "Epoch 33/200\n",
      "2535/2535 [==============================] - 0s 25us/step - loss: 0.3763 - accuracy: 0.8473\n",
      "Epoch 34/200\n",
      "2535/2535 [==============================] - 0s 25us/step - loss: 0.3778 - accuracy: 0.8446\n",
      "Epoch 35/200\n",
      "2535/2535 [==============================] - 0s 24us/step - loss: 0.3754 - accuracy: 0.8473\n",
      "Epoch 36/200\n",
      "2535/2535 [==============================] - 0s 24us/step - loss: 0.3735 - accuracy: 0.8477\n",
      "Epoch 37/200\n",
      "2535/2535 [==============================] - 0s 24us/step - loss: 0.3747 - accuracy: 0.8465\n",
      "Epoch 38/200\n",
      "2535/2535 [==============================] - 0s 25us/step - loss: 0.3767 - accuracy: 0.8493\n",
      "Epoch 39/200\n",
      "2535/2535 [==============================] - 0s 24us/step - loss: 0.3726 - accuracy: 0.8442\n",
      "Epoch 40/200\n",
      "2535/2535 [==============================] - 0s 24us/step - loss: 0.3762 - accuracy: 0.8450\n",
      "Epoch 41/200\n",
      "2535/2535 [==============================] - 0s 24us/step - loss: 0.3756 - accuracy: 0.8450\n",
      "Epoch 42/200\n",
      "2535/2535 [==============================] - 0s 25us/step - loss: 0.3716 - accuracy: 0.8462\n",
      "Epoch 43/200\n",
      "2535/2535 [==============================] - 0s 24us/step - loss: 0.3718 - accuracy: 0.8458\n",
      "Epoch 44/200\n",
      "2535/2535 [==============================] - 0s 25us/step - loss: 0.3717 - accuracy: 0.8430\n",
      "Epoch 45/200\n",
      "2535/2535 [==============================] - 0s 26us/step - loss: 0.3721 - accuracy: 0.8458\n",
      "Epoch 46/200\n",
      "2535/2535 [==============================] - 0s 25us/step - loss: 0.3704 - accuracy: 0.8485\n",
      "Epoch 47/200\n",
      "2535/2535 [==============================] - 0s 26us/step - loss: 0.3719 - accuracy: 0.8438\n",
      "Epoch 48/200\n",
      "2535/2535 [==============================] - 0s 25us/step - loss: 0.3736 - accuracy: 0.8485\n",
      "Epoch 49/200\n",
      "2535/2535 [==============================] - 0s 24us/step - loss: 0.3700 - accuracy: 0.8430\n",
      "Epoch 50/200\n",
      "2535/2535 [==============================] - 0s 25us/step - loss: 0.3687 - accuracy: 0.8493\n",
      "Epoch 51/200\n",
      "2535/2535 [==============================] - 0s 25us/step - loss: 0.3728 - accuracy: 0.8438\n",
      "Epoch 52/200\n",
      "2535/2535 [==============================] - 0s 24us/step - loss: 0.3697 - accuracy: 0.8450\n",
      "Epoch 53/200\n",
      "2535/2535 [==============================] - 0s 26us/step - loss: 0.3708 - accuracy: 0.8454\n",
      "Epoch 54/200\n",
      "2535/2535 [==============================] - 0s 25us/step - loss: 0.3703 - accuracy: 0.8454\n",
      "Epoch 55/200\n",
      "2535/2535 [==============================] - 0s 24us/step - loss: 0.3687 - accuracy: 0.8465\n",
      "Epoch 56/200\n",
      "2535/2535 [==============================] - 0s 23us/step - loss: 0.3706 - accuracy: 0.8462\n",
      "Epoch 57/200\n",
      "2535/2535 [==============================] - 0s 25us/step - loss: 0.3676 - accuracy: 0.8446\n",
      "Epoch 58/200\n",
      "2535/2535 [==============================] - 0s 24us/step - loss: 0.3683 - accuracy: 0.8430\n",
      "Epoch 59/200\n",
      "2535/2535 [==============================] - 0s 23us/step - loss: 0.3684 - accuracy: 0.8446\n",
      "Epoch 60/200\n",
      "2535/2535 [==============================] - 0s 25us/step - loss: 0.3671 - accuracy: 0.8489\n",
      "Epoch 61/200\n",
      "2535/2535 [==============================] - 0s 26us/step - loss: 0.3677 - accuracy: 0.8485\n",
      "Epoch 62/200\n",
      "2535/2535 [==============================] - 0s 24us/step - loss: 0.3667 - accuracy: 0.8406\n",
      "Epoch 63/200\n",
      "2535/2535 [==============================] - 0s 24us/step - loss: 0.3688 - accuracy: 0.8426\n",
      "Epoch 64/200\n",
      "2535/2535 [==============================] - 0s 23us/step - loss: 0.3669 - accuracy: 0.8450\n",
      "Epoch 65/200\n",
      "2535/2535 [==============================] - 0s 25us/step - loss: 0.3699 - accuracy: 0.8481\n",
      "Epoch 66/200\n",
      "2535/2535 [==============================] - 0s 26us/step - loss: 0.3714 - accuracy: 0.8458\n",
      "Epoch 67/200\n",
      "2535/2535 [==============================] - 0s 24us/step - loss: 0.3723 - accuracy: 0.8422\n",
      "Epoch 68/200\n",
      "2535/2535 [==============================] - 0s 23us/step - loss: 0.3676 - accuracy: 0.8454\n",
      "Epoch 69/200\n",
      "2535/2535 [==============================] - 0s 24us/step - loss: 0.3677 - accuracy: 0.8454\n",
      "Epoch 70/200\n",
      "2535/2535 [==============================] - 0s 25us/step - loss: 0.3666 - accuracy: 0.8450\n",
      "Epoch 71/200\n",
      "2535/2535 [==============================] - 0s 24us/step - loss: 0.3670 - accuracy: 0.8477\n",
      "Epoch 72/200\n",
      "2535/2535 [==============================] - 0s 24us/step - loss: 0.3674 - accuracy: 0.8473\n",
      "Epoch 73/200\n",
      "2535/2535 [==============================] - 0s 24us/step - loss: 0.3662 - accuracy: 0.8465\n",
      "Epoch 74/200\n",
      "2535/2535 [==============================] - 0s 25us/step - loss: 0.3680 - accuracy: 0.8465\n",
      "Epoch 75/200\n",
      "2535/2535 [==============================] - 0s 24us/step - loss: 0.3690 - accuracy: 0.8426\n",
      "Epoch 76/200\n",
      "2535/2535 [==============================] - 0s 25us/step - loss: 0.3695 - accuracy: 0.8473\n",
      "Epoch 77/200\n",
      "2535/2535 [==============================] - 0s 24us/step - loss: 0.3672 - accuracy: 0.8454\n",
      "Epoch 78/200\n",
      "2535/2535 [==============================] - 0s 24us/step - loss: 0.3638 - accuracy: 0.8505\n",
      "Epoch 79/200\n"
     ]
    },
    {
     "name": "stdout",
     "output_type": "stream",
     "text": [
      "2535/2535 [==============================] - 0s 24us/step - loss: 0.3683 - accuracy: 0.8454\n",
      "Epoch 80/200\n",
      "2535/2535 [==============================] - 0s 24us/step - loss: 0.3638 - accuracy: 0.8442\n",
      "Epoch 81/200\n",
      "2535/2535 [==============================] - 0s 24us/step - loss: 0.3634 - accuracy: 0.8465\n",
      "Epoch 82/200\n",
      "2535/2535 [==============================] - 0s 24us/step - loss: 0.3630 - accuracy: 0.8454\n",
      "Epoch 83/200\n",
      "2535/2535 [==============================] - 0s 25us/step - loss: 0.3650 - accuracy: 0.8442\n",
      "Epoch 84/200\n",
      "2535/2535 [==============================] - 0s 24us/step - loss: 0.3627 - accuracy: 0.8458\n",
      "Epoch 85/200\n",
      "2535/2535 [==============================] - 0s 24us/step - loss: 0.3649 - accuracy: 0.8454\n",
      "Epoch 86/200\n",
      "2535/2535 [==============================] - 0s 25us/step - loss: 0.3619 - accuracy: 0.8442\n",
      "Epoch 87/200\n",
      "2535/2535 [==============================] - 0s 24us/step - loss: 0.3648 - accuracy: 0.8442\n",
      "Epoch 88/200\n",
      "2535/2535 [==============================] - 0s 24us/step - loss: 0.3645 - accuracy: 0.8489\n",
      "Epoch 89/200\n",
      "2535/2535 [==============================] - 0s 24us/step - loss: 0.3670 - accuracy: 0.8446\n",
      "Epoch 90/200\n",
      "2535/2535 [==============================] - 0s 25us/step - loss: 0.3624 - accuracy: 0.8446\n",
      "Epoch 91/200\n",
      "2535/2535 [==============================] - 0s 24us/step - loss: 0.3625 - accuracy: 0.8462\n",
      "Epoch 92/200\n",
      "2535/2535 [==============================] - 0s 24us/step - loss: 0.3625 - accuracy: 0.8465\n",
      "Epoch 93/200\n",
      "2535/2535 [==============================] - 0s 25us/step - loss: 0.3692 - accuracy: 0.8430\n",
      "Epoch 94/200\n",
      "2535/2535 [==============================] - 0s 24us/step - loss: 0.3620 - accuracy: 0.8465\n",
      "Epoch 95/200\n",
      "2535/2535 [==============================] - 0s 24us/step - loss: 0.3637 - accuracy: 0.8442\n",
      "Epoch 96/200\n",
      "2535/2535 [==============================] - 0s 24us/step - loss: 0.3637 - accuracy: 0.8450\n",
      "Epoch 97/200\n",
      "2535/2535 [==============================] - 0s 24us/step - loss: 0.3623 - accuracy: 0.8434\n",
      "Epoch 98/200\n",
      "2535/2535 [==============================] - 0s 26us/step - loss: 0.3633 - accuracy: 0.8473\n",
      "Epoch 99/200\n",
      "2535/2535 [==============================] - 0s 25us/step - loss: 0.3607 - accuracy: 0.8497\n",
      "Epoch 100/200\n",
      "2535/2535 [==============================] - 0s 24us/step - loss: 0.3655 - accuracy: 0.8430\n",
      "Epoch 101/200\n",
      "2535/2535 [==============================] - 0s 24us/step - loss: 0.3626 - accuracy: 0.8493\n",
      "Epoch 102/200\n",
      "2535/2535 [==============================] - 0s 25us/step - loss: 0.3648 - accuracy: 0.8438\n",
      "Epoch 103/200\n",
      "2535/2535 [==============================] - 0s 24us/step - loss: 0.3611 - accuracy: 0.8438\n",
      "Epoch 104/200\n",
      "2535/2535 [==============================] - 0s 24us/step - loss: 0.3676 - accuracy: 0.8434\n",
      "Epoch 105/200\n",
      "2535/2535 [==============================] - 0s 24us/step - loss: 0.3628 - accuracy: 0.8418\n",
      "Epoch 106/200\n",
      "2535/2535 [==============================] - 0s 24us/step - loss: 0.3612 - accuracy: 0.8469\n",
      "Epoch 107/200\n",
      "2535/2535 [==============================] - 0s 25us/step - loss: 0.3619 - accuracy: 0.8485\n",
      "Epoch 108/200\n",
      "2535/2535 [==============================] - 0s 24us/step - loss: 0.3642 - accuracy: 0.8465\n",
      "Epoch 109/200\n",
      "2535/2535 [==============================] - 0s 24us/step - loss: 0.3613 - accuracy: 0.8426\n",
      "Epoch 110/200\n",
      "2535/2535 [==============================] - 0s 24us/step - loss: 0.3593 - accuracy: 0.8485\n",
      "Epoch 111/200\n",
      "2535/2535 [==============================] - 0s 24us/step - loss: 0.3584 - accuracy: 0.8446\n",
      "Epoch 112/200\n",
      "2535/2535 [==============================] - 0s 25us/step - loss: 0.3637 - accuracy: 0.8438\n",
      "Epoch 113/200\n",
      "2535/2535 [==============================] - 0s 25us/step - loss: 0.3621 - accuracy: 0.8473\n",
      "Epoch 114/200\n",
      "2535/2535 [==============================] - 0s 24us/step - loss: 0.3577 - accuracy: 0.8485\n",
      "Epoch 115/200\n",
      "2535/2535 [==============================] - 0s 24us/step - loss: 0.3621 - accuracy: 0.8473\n",
      "Epoch 116/200\n",
      "2535/2535 [==============================] - 0s 25us/step - loss: 0.3616 - accuracy: 0.8469\n",
      "Epoch 117/200\n",
      "2535/2535 [==============================] - 0s 24us/step - loss: 0.3615 - accuracy: 0.8513\n",
      "Epoch 118/200\n",
      "2535/2535 [==============================] - 0s 23us/step - loss: 0.3624 - accuracy: 0.8450\n",
      "Epoch 119/200\n",
      "2535/2535 [==============================] - 0s 24us/step - loss: 0.3613 - accuracy: 0.8454\n",
      "Epoch 120/200\n",
      "2535/2535 [==============================] - 0s 24us/step - loss: 0.3575 - accuracy: 0.8485\n",
      "Epoch 121/200\n",
      "2535/2535 [==============================] - 0s 24us/step - loss: 0.3607 - accuracy: 0.8426\n",
      "Epoch 122/200\n",
      "2535/2535 [==============================] - 0s 24us/step - loss: 0.3581 - accuracy: 0.8501\n",
      "Epoch 123/200\n",
      "2535/2535 [==============================] - 0s 25us/step - loss: 0.3601 - accuracy: 0.8442\n",
      "Epoch 124/200\n",
      "2535/2535 [==============================] - 0s 26us/step - loss: 0.3585 - accuracy: 0.8489\n",
      "Epoch 125/200\n",
      "2535/2535 [==============================] - 0s 23us/step - loss: 0.3614 - accuracy: 0.8473\n",
      "Epoch 126/200\n",
      "2535/2535 [==============================] - 0s 23us/step - loss: 0.3604 - accuracy: 0.8481\n",
      "Epoch 127/200\n",
      "2535/2535 [==============================] - 0s 23us/step - loss: 0.3584 - accuracy: 0.8434\n",
      "Epoch 128/200\n",
      "2535/2535 [==============================] - 0s 24us/step - loss: 0.3609 - accuracy: 0.8489\n",
      "Epoch 129/200\n",
      "2535/2535 [==============================] - 0s 23us/step - loss: 0.3585 - accuracy: 0.8426\n",
      "Epoch 130/200\n",
      "2535/2535 [==============================] - 0s 23us/step - loss: 0.3594 - accuracy: 0.8473\n",
      "Epoch 131/200\n",
      "2535/2535 [==============================] - 0s 24us/step - loss: 0.3583 - accuracy: 0.8501\n",
      "Epoch 132/200\n",
      "2535/2535 [==============================] - 0s 24us/step - loss: 0.3617 - accuracy: 0.8485\n",
      "Epoch 133/200\n",
      "2535/2535 [==============================] - 0s 22us/step - loss: 0.3584 - accuracy: 0.8485\n",
      "Epoch 134/200\n",
      "2535/2535 [==============================] - 0s 24us/step - loss: 0.3601 - accuracy: 0.8501\n",
      "Epoch 135/200\n",
      "2535/2535 [==============================] - 0s 24us/step - loss: 0.3560 - accuracy: 0.8497\n",
      "Epoch 136/200\n",
      "2535/2535 [==============================] - 0s 24us/step - loss: 0.3555 - accuracy: 0.8465\n",
      "Epoch 137/200\n",
      "2535/2535 [==============================] - 0s 23us/step - loss: 0.3592 - accuracy: 0.8489\n",
      "Epoch 138/200\n",
      "2535/2535 [==============================] - 0s 24us/step - loss: 0.3588 - accuracy: 0.8477\n",
      "Epoch 139/200\n",
      "2535/2535 [==============================] - 0s 23us/step - loss: 0.3594 - accuracy: 0.8497\n",
      "Epoch 140/200\n",
      "2535/2535 [==============================] - 0s 23us/step - loss: 0.3568 - accuracy: 0.8485\n",
      "Epoch 141/200\n",
      "2535/2535 [==============================] - 0s 24us/step - loss: 0.3565 - accuracy: 0.8489\n",
      "Epoch 142/200\n",
      "2535/2535 [==============================] - 0s 24us/step - loss: 0.3585 - accuracy: 0.8469\n",
      "Epoch 143/200\n",
      "2535/2535 [==============================] - 0s 24us/step - loss: 0.3558 - accuracy: 0.8462\n",
      "Epoch 144/200\n",
      "2535/2535 [==============================] - 0s 23us/step - loss: 0.3579 - accuracy: 0.8473\n",
      "Epoch 145/200\n",
      "2535/2535 [==============================] - 0s 23us/step - loss: 0.3569 - accuracy: 0.8454\n",
      "Epoch 146/200\n",
      "2535/2535 [==============================] - 0s 24us/step - loss: 0.3578 - accuracy: 0.8477\n",
      "Epoch 147/200\n",
      "2535/2535 [==============================] - 0s 24us/step - loss: 0.3554 - accuracy: 0.8462\n",
      "Epoch 148/200\n",
      "2535/2535 [==============================] - 0s 24us/step - loss: 0.3566 - accuracy: 0.8517\n",
      "Epoch 149/200\n",
      "2535/2535 [==============================] - 0s 24us/step - loss: 0.3543 - accuracy: 0.8501\n",
      "Epoch 150/200\n",
      "2535/2535 [==============================] - 0s 24us/step - loss: 0.3596 - accuracy: 0.8513\n",
      "Epoch 151/200\n",
      "2535/2535 [==============================] - 0s 24us/step - loss: 0.3567 - accuracy: 0.8454\n",
      "Epoch 152/200\n",
      "2535/2535 [==============================] - 0s 23us/step - loss: 0.3588 - accuracy: 0.8473\n",
      "Epoch 153/200\n",
      "2535/2535 [==============================] - 0s 24us/step - loss: 0.3551 - accuracy: 0.8454\n",
      "Epoch 154/200\n",
      "2535/2535 [==============================] - 0s 24us/step - loss: 0.3581 - accuracy: 0.8465\n",
      "Epoch 155/200\n",
      "2535/2535 [==============================] - 0s 24us/step - loss: 0.3547 - accuracy: 0.8469\n",
      "Epoch 156/200\n"
     ]
    },
    {
     "name": "stdout",
     "output_type": "stream",
     "text": [
      "2535/2535 [==============================] - 0s 23us/step - loss: 0.3647 - accuracy: 0.8391\n",
      "Epoch 157/200\n",
      "2535/2535 [==============================] - 0s 22us/step - loss: 0.3560 - accuracy: 0.8465\n",
      "Epoch 158/200\n",
      "2535/2535 [==============================] - 0s 22us/step - loss: 0.3552 - accuracy: 0.8497\n",
      "Epoch 159/200\n",
      "2535/2535 [==============================] - 0s 23us/step - loss: 0.3580 - accuracy: 0.8454\n",
      "Epoch 160/200\n",
      "2535/2535 [==============================] - 0s 23us/step - loss: 0.3568 - accuracy: 0.8430\n",
      "Epoch 161/200\n",
      "2535/2535 [==============================] - 0s 24us/step - loss: 0.3649 - accuracy: 0.8477\n",
      "Epoch 162/200\n",
      "2535/2535 [==============================] - 0s 23us/step - loss: 0.3556 - accuracy: 0.8485\n",
      "Epoch 163/200\n",
      "2535/2535 [==============================] - 0s 24us/step - loss: 0.3573 - accuracy: 0.8481\n",
      "Epoch 164/200\n",
      "2535/2535 [==============================] - 0s 25us/step - loss: 0.3558 - accuracy: 0.8462\n",
      "Epoch 165/200\n",
      "2535/2535 [==============================] - 0s 25us/step - loss: 0.3562 - accuracy: 0.8497\n",
      "Epoch 166/200\n",
      "2535/2535 [==============================] - 0s 25us/step - loss: 0.3546 - accuracy: 0.8465\n",
      "Epoch 167/200\n",
      "2535/2535 [==============================] - 0s 25us/step - loss: 0.3534 - accuracy: 0.8477\n",
      "Epoch 168/200\n",
      "2535/2535 [==============================] - 0s 24us/step - loss: 0.3557 - accuracy: 0.8414\n",
      "Epoch 169/200\n",
      "2535/2535 [==============================] - 0s 24us/step - loss: 0.3545 - accuracy: 0.8513\n",
      "Epoch 170/200\n",
      "2535/2535 [==============================] - 0s 24us/step - loss: 0.3573 - accuracy: 0.8497\n",
      "Epoch 171/200\n",
      "2535/2535 [==============================] - 0s 25us/step - loss: 0.3546 - accuracy: 0.8438\n",
      "Epoch 172/200\n",
      "2535/2535 [==============================] - 0s 24us/step - loss: 0.3545 - accuracy: 0.8462\n",
      "Epoch 173/200\n",
      "2535/2535 [==============================] - 0s 24us/step - loss: 0.3528 - accuracy: 0.8473\n",
      "Epoch 174/200\n",
      "2535/2535 [==============================] - 0s 23us/step - loss: 0.3544 - accuracy: 0.8497\n",
      "Epoch 175/200\n",
      "2535/2535 [==============================] - 0s 23us/step - loss: 0.3553 - accuracy: 0.8462\n",
      "Epoch 176/200\n",
      "2535/2535 [==============================] - 0s 23us/step - loss: 0.3572 - accuracy: 0.8485\n",
      "Epoch 177/200\n",
      "2535/2535 [==============================] - 0s 22us/step - loss: 0.3578 - accuracy: 0.8481\n",
      "Epoch 178/200\n",
      "2535/2535 [==============================] - 0s 24us/step - loss: 0.3558 - accuracy: 0.8414\n",
      "Epoch 179/200\n",
      "2535/2535 [==============================] - 0s 25us/step - loss: 0.3550 - accuracy: 0.8481\n",
      "Epoch 180/200\n",
      "2535/2535 [==============================] - 0s 24us/step - loss: 0.3556 - accuracy: 0.8465\n",
      "Epoch 181/200\n",
      "2535/2535 [==============================] - 0s 24us/step - loss: 0.3575 - accuracy: 0.8477\n",
      "Epoch 182/200\n",
      "2535/2535 [==============================] - 0s 24us/step - loss: 0.3560 - accuracy: 0.8446\n",
      "Epoch 183/200\n",
      "2535/2535 [==============================] - 0s 25us/step - loss: 0.3539 - accuracy: 0.8469\n",
      "Epoch 184/200\n",
      "2535/2535 [==============================] - 0s 24us/step - loss: 0.3527 - accuracy: 0.8458\n",
      "Epoch 185/200\n",
      "2535/2535 [==============================] - 0s 24us/step - loss: 0.3542 - accuracy: 0.8497\n",
      "Epoch 186/200\n",
      "2535/2535 [==============================] - 0s 24us/step - loss: 0.3537 - accuracy: 0.8493\n",
      "Epoch 187/200\n",
      "2535/2535 [==============================] - 0s 24us/step - loss: 0.3546 - accuracy: 0.8454\n",
      "Epoch 188/200\n",
      "2535/2535 [==============================] - 0s 24us/step - loss: 0.3556 - accuracy: 0.8481\n",
      "Epoch 189/200\n",
      "2535/2535 [==============================] - 0s 23us/step - loss: 0.3528 - accuracy: 0.8446\n",
      "Epoch 190/200\n",
      "2535/2535 [==============================] - 0s 24us/step - loss: 0.3523 - accuracy: 0.8485\n",
      "Epoch 191/200\n",
      "2535/2535 [==============================] - 0s 24us/step - loss: 0.3545 - accuracy: 0.8473\n",
      "Epoch 192/200\n",
      "2535/2535 [==============================] - 0s 25us/step - loss: 0.3585 - accuracy: 0.8418\n",
      "Epoch 193/200\n",
      "2535/2535 [==============================] - 0s 23us/step - loss: 0.3524 - accuracy: 0.8485\n",
      "Epoch 194/200\n",
      "2535/2535 [==============================] - 0s 23us/step - loss: 0.3567 - accuracy: 0.8477\n",
      "Epoch 195/200\n",
      "2535/2535 [==============================] - 0s 24us/step - loss: 0.3498 - accuracy: 0.8497\n",
      "Epoch 196/200\n",
      "2535/2535 [==============================] - 0s 23us/step - loss: 0.3540 - accuracy: 0.8505\n",
      "Epoch 197/200\n",
      "2535/2535 [==============================] - 0s 24us/step - loss: 0.3538 - accuracy: 0.8458\n",
      "Epoch 198/200\n",
      "2535/2535 [==============================] - 0s 23us/step - loss: 0.3553 - accuracy: 0.8485\n",
      "Epoch 199/200\n",
      "2535/2535 [==============================] - 0s 24us/step - loss: 0.3512 - accuracy: 0.8462\n",
      "Epoch 200/200\n",
      "2535/2535 [==============================] - 0s 24us/step - loss: 0.3564 - accuracy: 0.8454\n"
     ]
    },
    {
     "data": {
      "text/plain": [
       "<keras.callbacks.callbacks.History at 0x2100d9dd898>"
      ]
     },
     "execution_count": 37,
     "metadata": {},
     "output_type": "execute_result"
    }
   ],
   "source": [
    "model.fit(\n",
    "    X_train,\n",
    "    y_train,\n",
    "    epochs=200,\n",
    "    shuffle=True,\n",
    "    verbose=1\n",
    ")"
   ]
  },
  {
   "cell_type": "markdown",
   "metadata": {},
   "source": [
    "Review scores, confusion matrix, and classification report."
   ]
  },
  {
   "cell_type": "code",
   "execution_count": 38,
   "metadata": {
    "ExecuteTime": {
     "end_time": "2019-10-27T14:57:26.671318Z",
     "start_time": "2019-10-27T14:57:26.646411Z"
    }
   },
   "outputs": [],
   "source": [
    "predictions = model.predict_classes(X_test)"
   ]
  },
  {
   "cell_type": "code",
   "execution_count": 39,
   "metadata": {
    "ExecuteTime": {
     "end_time": "2019-10-27T14:57:28.097517Z",
     "start_time": "2019-10-27T14:57:28.070559Z"
    }
   },
   "outputs": [
    {
     "name": "stdout",
     "output_type": "stream",
     "text": [
      "tn: 687   fp:  18\n",
      "fn: 106   tp:  35\n"
     ]
    }
   ],
   "source": [
    "tn, fp, fn, tp = confusion_matrix(y_test, predictions).ravel()\n",
    "print(f\"tn: {tn:3d}   fp: {fp:3d}\")\n",
    "print(f\"fn: {fn:3d}   tp: {tp:3d}\")"
   ]
  },
  {
   "cell_type": "code",
   "execution_count": 40,
   "metadata": {
    "ExecuteTime": {
     "end_time": "2019-10-27T14:59:02.309502Z",
     "start_time": "2019-10-27T14:59:02.283554Z"
    }
   },
   "outputs": [
    {
     "name": "stdout",
     "output_type": "stream",
     "text": [
      "              precision    recall  f1-score   support\n",
      "\n",
      "           0       0.87      0.97      0.92       705\n",
      "           1       0.66      0.25      0.36       141\n",
      "\n",
      "   micro avg       0.85      0.85      0.85       846\n",
      "   macro avg       0.76      0.61      0.64       846\n",
      "weighted avg       0.83      0.85      0.82       846\n",
      "\n"
     ]
    }
   ],
   "source": [
    "print(classification_report(y_test, predictions,target_names=[\"0\", \"1\"]))"
   ]
  },
  {
   "cell_type": "markdown",
   "metadata": {},
   "source": [
    "## Conclusions"
   ]
  },
  {
   "cell_type": "markdown",
   "metadata": {},
   "source": [
    "The better performing models all produce similar scores, confusion matrices, and classification reports, suggesting that our current limitations are more related to the data and the selected features than to the choice of models."
   ]
  },
  {
   "cell_type": "code",
   "execution_count": null,
   "metadata": {},
   "outputs": [],
   "source": []
  }
 ],
 "metadata": {
  "hide_input": false,
  "kernelspec": {
   "display_name": "Python [conda env:PythonData] *",
   "language": "python",
   "name": "conda-env-PythonData-py"
  },
  "language_info": {
   "codemirror_mode": {
    "name": "ipython",
    "version": 3
   },
   "file_extension": ".py",
   "mimetype": "text/x-python",
   "name": "python",
   "nbconvert_exporter": "python",
   "pygments_lexer": "ipython3",
   "version": "3.6.8"
  },
  "toc": {
   "base_numbering": 1,
   "nav_menu": {},
   "number_sections": true,
   "sideBar": true,
   "skip_h1_title": false,
   "title_cell": "Table of Contents",
   "title_sidebar": "Contents",
   "toc_cell": false,
   "toc_position": {},
   "toc_section_display": true,
   "toc_window_display": true
  },
  "varInspector": {
   "cols": {
    "lenName": 16,
    "lenType": 16,
    "lenVar": 40
   },
   "kernels_config": {
    "python": {
     "delete_cmd_postfix": "",
     "delete_cmd_prefix": "del ",
     "library": "var_list.py",
     "varRefreshCmd": "print(var_dic_list())"
    },
    "r": {
     "delete_cmd_postfix": ") ",
     "delete_cmd_prefix": "rm(",
     "library": "var_list.r",
     "varRefreshCmd": "cat(var_dic_list()) "
    }
   },
   "types_to_exclude": [
    "module",
    "function",
    "builtin_function_or_method",
    "instance",
    "_Feature"
   ],
   "window_display": false
  }
 },
 "nbformat": 4,
 "nbformat_minor": 2
}
